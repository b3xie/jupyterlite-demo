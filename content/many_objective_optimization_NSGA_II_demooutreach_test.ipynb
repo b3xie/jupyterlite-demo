{
  "nbformat": 4,
  "nbformat_minor": 0,
  "metadata": {
    "anaconda-cloud": {},
    "kernel_info": {
      "name": "python3"
    },
    "kernelspec": {
      "display_name": "Python 3",
      "language": "python",
      "name": "python3"
    },
    "language_info": {
      "codemirror_mode": {
        "name": "ipython",
        "version": 3
      },
      "file_extension": ".py",
      "mimetype": "text/x-python",
      "name": "python",
      "nbconvert_exporter": "python",
      "pygments_lexer": "ipython3",
      "version": "3.8.5"
    },
    "latex_envs": {
      "LaTeX_envs_menu_present": true,
      "bibliofile": "biblio.bib",
      "cite_by": "apalike",
      "current_citInitial": 1,
      "eqLabelWithNumbers": true,
      "eqNumInitial": 1,
      "labels_anchors": false,
      "latex_user_defs": false,
      "report_style_numbering": false,
      "user_envs_cfg": false
    },
    "nbpresent": {
      "slides": {
        "0525a4c2-8d9b-4b31-a032-fd0e6d3e5397": {
          "id": "0525a4c2-8d9b-4b31-a032-fd0e6d3e5397",
          "prev": "d1578704-7815-4900-bcc1-5e54f2896b84",
          "regions": {
            "0bea7764-495d-47d4-bf3a-4a959842ae69": {
              "attrs": {
                "height": 0.8,
                "width": 0.8,
                "x": 0.1,
                "y": 0.1
              },
              "content": {
                "cell": "d4cc2b3c-498c-4f0b-9786-27059e63a7ac",
                "part": "whole"
              },
              "id": "0bea7764-495d-47d4-bf3a-4a959842ae69"
            }
          }
        },
        "070c9f9b-a21d-4c78-88e2-154e3faa2c07": {
          "id": "070c9f9b-a21d-4c78-88e2-154e3faa2c07",
          "prev": "c027cf57-7a30-42ba-9831-86003f404035",
          "regions": {
            "3bf163d0-fda6-4a1e-97ee-a47e38b48620": {
              "attrs": {
                "height": 0.4,
                "width": 0.8,
                "x": 0.1,
                "y": 0.5
              },
              "content": {
                "cell": "4a35472b-7a4c-455d-9006-405f9f95dede",
                "part": "whole"
              },
              "id": "3bf163d0-fda6-4a1e-97ee-a47e38b48620"
            },
            "beec46e5-2d6a-4ff3-b7a4-8bbd21742ad9": {
              "attrs": {
                "height": 0.8,
                "width": 0.8,
                "x": 0.1,
                "y": 0.1
              },
              "content": {
                "cell": "e56b6522-fbe8-4a91-98a0-28ce5295d36b",
                "part": "whole"
              },
              "id": "beec46e5-2d6a-4ff3-b7a4-8bbd21742ad9"
            }
          }
        },
        "07699b46-6545-4cdb-b0e5-16371d9ffdac": {
          "id": "07699b46-6545-4cdb-b0e5-16371d9ffdac",
          "prev": "846520f7-f8ca-49e6-8eaf-06d635aba36f",
          "regions": {
            "6d42e3b1-6dc7-41fd-bc84-05c64c63c96d": {
              "attrs": {
                "height": 0.8,
                "width": 0.8,
                "x": 0.1,
                "y": 0.1
              },
              "content": {
                "cell": "430676e2-2edf-4d0d-b477-6414a9a283c8",
                "part": "whole"
              },
              "id": "6d42e3b1-6dc7-41fd-bc84-05c64c63c96d"
            }
          }
        },
        "0ba0fffd-8667-41e9-b7d1-9aa97e50a9ad": {
          "id": "0ba0fffd-8667-41e9-b7d1-9aa97e50a9ad",
          "prev": "1b5a220f-e270-4198-b7f5-379307f19497",
          "regions": {
            "0bd4ea24-ca25-4026-8693-fd2fc92da786": {
              "attrs": {
                "height": 0.4,
                "width": 0.8,
                "x": 0.1,
                "y": 0.5
              },
              "content": {
                "cell": "5235f649-752a-483b-b85b-1e6cf918d9ef",
                "part": "whole"
              },
              "id": "0bd4ea24-ca25-4026-8693-fd2fc92da786"
            },
            "1e09e26d-d071-484e-b468-c5dfebf0c814": {
              "attrs": {
                "height": 0.8,
                "width": 0.8,
                "x": 0.1,
                "y": 0.1
              },
              "content": {
                "cell": "54825a46-c10f-43ae-a126-78826bd5e97d",
                "part": "whole"
              },
              "id": "1e09e26d-d071-484e-b468-c5dfebf0c814"
            }
          }
        },
        "0c45ad51-4984-46a5-856e-87ee5c8e9913": {
          "id": "0c45ad51-4984-46a5-856e-87ee5c8e9913",
          "prev": "2ea3d29c-f6f8-4349-93c9-7db28237e3cd",
          "regions": {
            "674a9c4e-6603-452b-9d32-b2cd5fd347f5": {
              "attrs": {
                "height": 0.8,
                "width": 0.8,
                "x": 0.1,
                "y": 0.1
              },
              "content": {
                "cell": "322c39bb-4d98-4f3d-a1c5-bc5931123db1",
                "part": "whole"
              },
              "id": "674a9c4e-6603-452b-9d32-b2cd5fd347f5"
            }
          }
        },
        "0c636a22-cdc3-42cc-942f-cc6bcfc6028f": {
          "id": "0c636a22-cdc3-42cc-942f-cc6bcfc6028f",
          "prev": "0525a4c2-8d9b-4b31-a032-fd0e6d3e5397",
          "regions": {
            "c409f935-1613-43ac-8fda-6dc3db1392d1": {
              "attrs": {
                "height": 0.8,
                "width": 0.8,
                "x": 0.1,
                "y": 0.1
              },
              "content": {
                "cell": "d195cb1a-d7f6-480e-ac23-c5ff60003b0e",
                "part": "whole"
              },
              "id": "c409f935-1613-43ac-8fda-6dc3db1392d1"
            }
          }
        },
        "0e249c9a-4300-49ea-8584-acdef51ba265": {
          "id": "0e249c9a-4300-49ea-8584-acdef51ba265",
          "prev": "198dc1a4-a084-4ea8-87c9-1800eff81e8e",
          "regions": {
            "0902811c-8139-4900-8927-deab31f548e5": {
              "attrs": {
                "height": 0.4,
                "width": 0.8,
                "x": 0.1,
                "y": 0.5
              },
              "content": {
                "cell": "b3de5ec2-4e2d-4099-bd29-30befceffcdd",
                "part": "whole"
              },
              "id": "0902811c-8139-4900-8927-deab31f548e5"
            },
            "484900fb-19be-4d6d-b55c-88af6476f2bd": {
              "attrs": {
                "height": 0.8,
                "width": 0.8,
                "x": 0.1,
                "y": 0.1
              },
              "content": {
                "cell": "9ed6d71b-b34f-49b9-99f1-ce144fc20bbd",
                "part": "whole"
              },
              "id": "484900fb-19be-4d6d-b55c-88af6476f2bd"
            },
            "5c05406c-2dfb-44d8-a89b-4e9322c3094c": {
              "attrs": {
                "height": 0.4,
                "width": 0.8,
                "x": 0.1,
                "y": 0.5
              },
              "content": {
                "cell": "09fd64f6-7c19-42cd-a2bd-03d1f48c686c",
                "part": "whole"
              },
              "id": "5c05406c-2dfb-44d8-a89b-4e9322c3094c"
            }
          }
        },
        "111bc524-7ede-4866-bcaa-14d9e9e026ee": {
          "id": "111bc524-7ede-4866-bcaa-14d9e9e026ee",
          "prev": "6df886f8-5b49-4ac2-95a3-583c1c893642",
          "regions": {
            "eb4af181-1d7d-42e5-b882-63736cf7d77d": {
              "attrs": {
                "height": 0.8,
                "width": 0.8,
                "x": 0.1,
                "y": 0.1
              },
              "content": {
                "cell": "4ea0bab4-8106-4527-a1c3-54a6b25ebb5f",
                "part": "whole"
              },
              "id": "eb4af181-1d7d-42e5-b882-63736cf7d77d"
            }
          }
        },
        "11620390-2c4e-4ee9-89a7-8d3be6f763a3": {
          "id": "11620390-2c4e-4ee9-89a7-8d3be6f763a3",
          "prev": "fb24bf97-17c9-4943-958a-fc45cd6f2308",
          "regions": {
            "c8f0bedc-7eee-4e1a-aa6d-bdfa88ef32f6": {
              "attrs": {
                "height": 0.8,
                "width": 0.8,
                "x": 0.1,
                "y": 0.1
              },
              "content": {
                "cell": "683d53c1-4891-469a-9700-113924b3ae40",
                "part": "whole"
              },
              "id": "c8f0bedc-7eee-4e1a-aa6d-bdfa88ef32f6"
            }
          }
        },
        "136d970f-b4d9-445a-9e91-565107f52aa6": {
          "id": "136d970f-b4d9-445a-9e91-565107f52aa6",
          "prev": "52116b15-396a-4993-aae8-7c72222f4cbb",
          "regions": {
            "9190645e-52ae-4725-a393-b6c871814d30": {
              "attrs": {
                "height": 0.8,
                "width": 0.8,
                "x": 0.1,
                "y": 0.1
              },
              "content": {
                "cell": "8a335972-5778-46fd-aa18-4ab710675f28",
                "part": "whole"
              },
              "id": "9190645e-52ae-4725-a393-b6c871814d30"
            }
          }
        },
        "184945ed-4e0c-4ca5-9705-e2d5d5b97f9d": {
          "id": "184945ed-4e0c-4ca5-9705-e2d5d5b97f9d",
          "prev": "90f590e4-8675-400e-93a6-5c472f709515",
          "regions": {
            "741229fa-2c06-4daa-bd0a-fc27594580c9": {
              "attrs": {
                "height": 0.8,
                "width": 0.8,
                "x": 0.1,
                "y": 0.1
              },
              "content": {
                "cell": "85e42507-7706-49d9-9aba-333053711177",
                "part": "whole"
              },
              "id": "741229fa-2c06-4daa-bd0a-fc27594580c9"
            }
          }
        },
        "198dc1a4-a084-4ea8-87c9-1800eff81e8e": {
          "id": "198dc1a4-a084-4ea8-87c9-1800eff81e8e",
          "prev": "a9f12b72-ee3c-4bdc-995c-cd54f6661066",
          "regions": {
            "45c51194-7d16-4f26-b088-35cc53040784": {
              "attrs": {
                "height": 0.4,
                "width": 0.8,
                "x": 0.1,
                "y": 0.5
              },
              "content": {
                "cell": "b61530d8-bc78-4d6f-8b38-81f304f9422c",
                "part": "whole"
              },
              "id": "45c51194-7d16-4f26-b088-35cc53040784"
            },
            "94bfef8a-31fa-4638-8035-2de69fdf17cf": {
              "attrs": {
                "height": 0.8,
                "width": 0.8,
                "x": 0.1,
                "y": 0.1
              },
              "content": {
                "cell": "74e8fa37-f51d-4d79-927e-d6f66c184cb0",
                "part": "whole"
              },
              "id": "94bfef8a-31fa-4638-8035-2de69fdf17cf"
            }
          }
        },
        "1a162695-6d23-4aa5-84e5-9293359145dd": {
          "id": "1a162695-6d23-4aa5-84e5-9293359145dd",
          "prev": "11620390-2c4e-4ee9-89a7-8d3be6f763a3",
          "regions": {
            "75d723c3-7cd5-42bf-816a-d0c94b42b4dd": {
              "attrs": {
                "height": 0.8,
                "width": 0.8,
                "x": 0.1,
                "y": 0.1
              },
              "content": {
                "cell": "c4a2064c-f5d8-4916-aca3-a38a42c5e40a",
                "part": "whole"
              },
              "id": "75d723c3-7cd5-42bf-816a-d0c94b42b4dd"
            }
          }
        },
        "1a58efb1-7ce3-4ced-823f-4dd9697607c2": {
          "id": "1a58efb1-7ce3-4ced-823f-4dd9697607c2",
          "prev": "bd8700af-e789-44d4-a2b9-75431c1b5de7",
          "regions": {
            "4cd81af6-7743-4d96-904b-55f29a30dc96": {
              "attrs": {
                "height": 0.8,
                "width": 0.8,
                "x": 0.1,
                "y": 0.1
              },
              "content": {
                "cell": "fdca7c70-beaa-4757-b7fd-61a3576f8fd2",
                "part": "whole"
              },
              "id": "4cd81af6-7743-4d96-904b-55f29a30dc96"
            },
            "cc6eb337-5b6b-4959-a0b9-72fdbdbc989e": {
              "attrs": {
                "height": 0.4,
                "width": 0.8,
                "x": 0.1,
                "y": 0.5
              },
              "content": {
                "cell": "ce244de5-c37a-4c61-a11c-3c78acc57e53",
                "part": "whole"
              },
              "id": "cc6eb337-5b6b-4959-a0b9-72fdbdbc989e"
            }
          }
        },
        "1b5a220f-e270-4198-b7f5-379307f19497": {
          "id": "1b5a220f-e270-4198-b7f5-379307f19497",
          "prev": "f66ca40e-1205-4d69-9a5f-17d9ae0638e0",
          "regions": {
            "621203ab-141a-444d-a1d8-83114e563bf8": {
              "attrs": {
                "height": 0.8,
                "width": 0.8,
                "x": 0.1,
                "y": 0.1
              },
              "content": {
                "cell": "908243fb-d6dc-47d7-b8d3-f8e785bf22d3",
                "part": "whole"
              },
              "id": "621203ab-141a-444d-a1d8-83114e563bf8"
            }
          }
        },
        "1bbbcd0c-55d4-4b4f-8b8e-030968ab88ac": {
          "id": "1bbbcd0c-55d4-4b4f-8b8e-030968ab88ac",
          "prev": "0ba0fffd-8667-41e9-b7d1-9aa97e50a9ad",
          "regions": {
            "820e8e23-871c-466b-961e-570cc1cfcd84": {
              "attrs": {
                "height": 0.8,
                "width": 0.8,
                "x": 0.1,
                "y": 0.1
              },
              "content": {
                "cell": "800468e1-293e-4668-815d-74c13f7981ce",
                "part": "whole"
              },
              "id": "820e8e23-871c-466b-961e-570cc1cfcd84"
            }
          }
        },
        "1cc58670-9996-4ef3-8e5a-ed9a8e887979": {
          "id": "1cc58670-9996-4ef3-8e5a-ed9a8e887979",
          "prev": "b623c826-f1ef-43ee-889e-b849c9fc87ce",
          "regions": {
            "46b381cd-0dd0-4232-bc53-279d162482dc": {
              "attrs": {
                "height": 0.8,
                "width": 0.8,
                "x": 0.1,
                "y": 0.1
              },
              "content": {
                "cell": "98d63654-f18b-4f5a-982c-d52bb58f7235",
                "part": "whole"
              },
              "id": "46b381cd-0dd0-4232-bc53-279d162482dc"
            },
            "b16fa2b6-cc74-4d2a-bbb5-3ccc99d0723c": {
              "attrs": {
                "height": 0.4,
                "width": 0.8,
                "x": 0.1,
                "y": 0.5
              },
              "content": {
                "cell": "693295fc-dc34-4cc4-9bc3-e1bd9cb3f9dc",
                "part": "whole"
              },
              "id": "b16fa2b6-cc74-4d2a-bbb5-3ccc99d0723c"
            }
          }
        },
        "21897ce9-9a3a-451d-9dca-b5e7c9a86dce": {
          "id": "21897ce9-9a3a-451d-9dca-b5e7c9a86dce",
          "prev": "07699b46-6545-4cdb-b0e5-16371d9ffdac",
          "regions": {
            "a5ab6367-5418-4351-994c-0631ff5de702": {
              "attrs": {
                "height": 0.8,
                "width": 0.8,
                "x": 0.1,
                "y": 0.1
              },
              "content": {
                "cell": "45558e6d-31de-4cec-b658-cf0f38626530",
                "part": "whole"
              },
              "id": "a5ab6367-5418-4351-994c-0631ff5de702"
            }
          }
        },
        "21dbec46-aa2b-4eea-aef2-4024cc967c12": {
          "id": "21dbec46-aa2b-4eea-aef2-4024cc967c12",
          "prev": "a0dde674-4ddb-4cdd-a20b-b02cf3ffd9e5",
          "regions": {
            "3cf512b2-43db-4a87-b58a-3ad003b74772": {
              "attrs": {
                "height": 0.4,
                "width": 0.8,
                "x": 0.1,
                "y": 0.5
              },
              "content": {
                "cell": "875c5a2c-d8da-4f0c-891e-7b0feae8ee75",
                "part": "whole"
              },
              "id": "3cf512b2-43db-4a87-b58a-3ad003b74772"
            },
            "ef2adeb7-3cb3-46e1-82bd-ebeef25e2172": {
              "attrs": {
                "height": 0.4,
                "width": 0.8,
                "x": 0.1,
                "y": 0.5
              },
              "content": {
                "cell": "9767e4e8-0e9d-4b6b-9b62-2c308db0bdd4",
                "part": "whole"
              },
              "id": "ef2adeb7-3cb3-46e1-82bd-ebeef25e2172"
            },
            "efb6da4c-72fd-435b-b423-5e5004d9c1fd": {
              "attrs": {
                "height": 0.8,
                "width": 0.8,
                "x": 0.1,
                "y": 0.1
              },
              "content": {
                "cell": "208bca27-089f-4249-9da1-1885de975f26",
                "part": "whole"
              },
              "id": "efb6da4c-72fd-435b-b423-5e5004d9c1fd"
            }
          }
        },
        "2cbb52d0-296f-427f-99ad-714b2e80255f": {
          "id": "2cbb52d0-296f-427f-99ad-714b2e80255f",
          "prev": "f7431e5b-a7b6-4b9d-b963-d88894a8c28b",
          "regions": {
            "2f37d522-b7b4-435a-bcce-0cf80e953853": {
              "attrs": {
                "height": 0.4,
                "width": 0.8,
                "x": 0.1,
                "y": 0.5
              },
              "content": {
                "cell": "dff0decd-81eb-407c-ba15-e38964635b17",
                "part": "whole"
              },
              "id": "2f37d522-b7b4-435a-bcce-0cf80e953853"
            },
            "816e715e-47e9-4483-9643-5afbf5eaba91": {
              "attrs": {
                "height": 0.8,
                "width": 0.8,
                "x": 0.1,
                "y": 0.1
              },
              "content": {
                "cell": "d9ea574a-ce9a-415f-ad0b-b26fb2ce2e26",
                "part": "whole"
              },
              "id": "816e715e-47e9-4483-9643-5afbf5eaba91"
            }
          }
        },
        "2ea3d29c-f6f8-4349-93c9-7db28237e3cd": {
          "id": "2ea3d29c-f6f8-4349-93c9-7db28237e3cd",
          "prev": "184945ed-4e0c-4ca5-9705-e2d5d5b97f9d",
          "regions": {
            "976252dd-2eae-46e9-a425-10f0ee9da9fd": {
              "attrs": {
                "height": 0.8,
                "width": 0.8,
                "x": 0.1,
                "y": 0.1
              },
              "content": {
                "cell": "ae190ffa-f297-43cc-8af8-616938f2fb0e",
                "part": "whole"
              },
              "id": "976252dd-2eae-46e9-a425-10f0ee9da9fd"
            }
          }
        },
        "34910890-e332-494f-a001-db7aa378ba4a": {
          "id": "34910890-e332-494f-a001-db7aa378ba4a",
          "prev": null,
          "regions": {
            "7ce56f59-5459-4561-9238-8f45666fce3a": {
              "attrs": {
                "height": 0.8,
                "width": 0.8,
                "x": 0.1,
                "y": 0.1
              },
              "content": {
                "cell": "fb4e8a4a-8abb-48ed-8947-e61299403ea0",
                "part": "whole"
              },
              "id": "7ce56f59-5459-4561-9238-8f45666fce3a"
            },
            "9a6cb1df-1b35-4733-9d29-b30da5e3e9d9": {
              "attrs": {
                "height": 0.4,
                "width": 0.8,
                "x": 0.1,
                "y": 0.5
              },
              "content": {
                "cell": "5abaa188-a2ce-4b69-9979-dce7f7319480",
                "part": "whole"
              },
              "id": "9a6cb1df-1b35-4733-9d29-b30da5e3e9d9"
            },
            "b6333d01-29a3-4fa5-b167-89d02720c121": {
              "attrs": {
                "height": 0.4,
                "width": 0.8,
                "x": 0.1,
                "y": 0.5
              },
              "content": {
                "cell": "02df5358-3921-4111-9315-25df44ee6a53",
                "part": "whole"
              },
              "id": "b6333d01-29a3-4fa5-b167-89d02720c121"
            }
          }
        },
        "3bf6cc64-674d-441f-b281-95b8a65efbb7": {
          "id": "3bf6cc64-674d-441f-b281-95b8a65efbb7",
          "prev": "c3d2eed8-b23b-4fff-b929-ba5a98657cad",
          "regions": {
            "c0a9bca2-bfdc-418c-afe3-04fddf2cc02a": {
              "attrs": {
                "height": 0.8,
                "width": 0.8,
                "x": 0.1,
                "y": 0.1
              },
              "content": {
                "cell": "8036e3ab-5453-408a-8da9-102fca42141e",
                "part": "whole"
              },
              "id": "c0a9bca2-bfdc-418c-afe3-04fddf2cc02a"
            }
          }
        },
        "52116b15-396a-4993-aae8-7c72222f4cbb": {
          "id": "52116b15-396a-4993-aae8-7c72222f4cbb",
          "prev": "9a7a389b-24ae-4997-87b4-a1bd678c84a4",
          "regions": {
            "2b878087-9751-4e18-a639-c0347e251afe": {
              "attrs": {
                "height": 0.8,
                "width": 0.8,
                "x": 0.1,
                "y": 0.1
              },
              "content": {
                "cell": "7ca8f3a1-f205-48b3-850c-e37a14da366c",
                "part": "whole"
              },
              "id": "2b878087-9751-4e18-a639-c0347e251afe"
            }
          }
        },
        "52b8b057-93f8-4958-9834-05f15f948afb": {
          "id": "52b8b057-93f8-4958-9834-05f15f948afb",
          "prev": "ac5c6789-f81c-478e-be10-2200388e7504",
          "regions": {
            "5d0d5bde-666f-45f0-bea5-eee2f94c8f9a": {
              "attrs": {
                "height": 0.8,
                "width": 0.8,
                "x": 0.1,
                "y": 0.1
              },
              "content": {
                "cell": "b53d6700-737d-4d9a-a009-0c748d51205e",
                "part": "whole"
              },
              "id": "5d0d5bde-666f-45f0-bea5-eee2f94c8f9a"
            }
          }
        },
        "54c88434-6ff4-47aa-b97f-4a8869adc484": {
          "id": "54c88434-6ff4-47aa-b97f-4a8869adc484",
          "prev": "8c6a2446-0585-4d1d-8d54-e954de251b0f",
          "regions": {
            "a155224c-5e35-4821-91b7-23ac74570c34": {
              "attrs": {
                "height": 0.4,
                "width": 0.8,
                "x": 0.1,
                "y": 0.5
              },
              "content": {
                "cell": "17e7b252-2425-4caf-8584-161a183ccf8f",
                "part": "whole"
              },
              "id": "a155224c-5e35-4821-91b7-23ac74570c34"
            },
            "db1360b5-719c-4c95-9f9b-504443119260": {
              "attrs": {
                "height": 0.8,
                "width": 0.8,
                "x": 0.1,
                "y": 0.1
              },
              "content": {
                "cell": "b6672207-3816-4622-b1a0-1d18622d732a",
                "part": "whole"
              },
              "id": "db1360b5-719c-4c95-9f9b-504443119260"
            }
          }
        },
        "56e2dddd-fbe5-4a66-872b-aaad161179fe": {
          "id": "56e2dddd-fbe5-4a66-872b-aaad161179fe",
          "prev": "67c2edad-3f2e-40be-b875-9d4120cb4ad7",
          "regions": {
            "fcd31c81-2068-4acf-ad9a-2df6076e7587": {
              "attrs": {
                "height": 0.8,
                "width": 0.8,
                "x": 0.1,
                "y": 0.1
              },
              "content": {
                "cell": "2097fa2c-0889-48ef-94a9-d2f8c49842f1",
                "part": "whole"
              },
              "id": "fcd31c81-2068-4acf-ad9a-2df6076e7587"
            }
          }
        },
        "5b7ea573-d1eb-4f12-a8a6-41457575b4e9": {
          "id": "5b7ea573-d1eb-4f12-a8a6-41457575b4e9",
          "prev": "da4d55b3-839f-4375-827f-df2efa947646",
          "regions": {
            "5e99273b-2910-4457-a052-c3b742beaa78": {
              "attrs": {
                "height": 0.8,
                "width": 0.8,
                "x": 0.1,
                "y": 0.1
              },
              "content": {
                "cell": "df444856-89e4-49fb-ad28-07e8f8477a07",
                "part": "whole"
              },
              "id": "5e99273b-2910-4457-a052-c3b742beaa78"
            }
          }
        },
        "5c391c71-5a53-49a8-b5e7-8c508c0d0e4b": {
          "id": "5c391c71-5a53-49a8-b5e7-8c508c0d0e4b",
          "prev": "1a162695-6d23-4aa5-84e5-9293359145dd",
          "regions": {
            "44052625-8206-40a1-aa51-5b06af36d925": {
              "attrs": {
                "height": 0.8,
                "width": 0.8,
                "x": 0.1,
                "y": 0.1
              },
              "content": {
                "cell": "28935ce3-aaf5-4f8c-ab42-a542f264a988",
                "part": "whole"
              },
              "id": "44052625-8206-40a1-aa51-5b06af36d925"
            }
          }
        },
        "5eeebf2c-d09e-4aab-a878-6c44e7ccbb5f": {
          "id": "5eeebf2c-d09e-4aab-a878-6c44e7ccbb5f",
          "prev": "be57be5d-cdf5-4ae6-9fa9-c039ae7a7837",
          "regions": {
            "7df7ff51-2f1b-4dc8-b0c2-ffeac4cf438c": {
              "attrs": {
                "height": 0.8,
                "width": 0.8,
                "x": 0.1,
                "y": 0.1
              },
              "content": {
                "cell": "4b918520-e4d4-4328-8cf7-4efecf18e1b7",
                "part": "whole"
              },
              "id": "7df7ff51-2f1b-4dc8-b0c2-ffeac4cf438c"
            }
          }
        },
        "6053802b-d657-4859-9223-e680e00a9b8d": {
          "id": "6053802b-d657-4859-9223-e680e00a9b8d",
          "prev": "9936f1f9-9b71-48f2-9a0f-be6ad0df5d6d",
          "regions": {
            "4ed9599d-e44d-4cde-a3e2-3d27d684c874": {
              "attrs": {
                "height": 0.8,
                "width": 0.8,
                "x": 0.1,
                "y": 0.1
              },
              "content": {
                "cell": "9d3f44e7-09a0-4163-92ec-4b4072eab499",
                "part": "whole"
              },
              "id": "4ed9599d-e44d-4cde-a3e2-3d27d684c874"
            },
            "d1a13b0d-415a-426c-b404-2ebfd424e39d": {
              "attrs": {
                "height": 0.4,
                "width": 0.8,
                "x": 0.1,
                "y": 0.5
              },
              "content": {
                "cell": "16fadcdd-76b7-4f71-8495-443a3a4fad21",
                "part": "whole"
              },
              "id": "d1a13b0d-415a-426c-b404-2ebfd424e39d"
            }
          }
        },
        "62cd72b4-9259-44ee-a1bd-1b9df790624f": {
          "id": "62cd72b4-9259-44ee-a1bd-1b9df790624f",
          "prev": "96af0963-4c71-4980-91f9-33da56766d9e",
          "regions": {
            "aa4f6659-f18e-44ea-adaf-71cfe39e6ddf": {
              "attrs": {
                "height": 0.8,
                "width": 0.8,
                "x": 0.1,
                "y": 0.1
              },
              "content": {
                "cell": "eb9326e6-a3cb-4d0a-9bdf-e04410355aff",
                "part": "whole"
              },
              "id": "aa4f6659-f18e-44ea-adaf-71cfe39e6ddf"
            }
          }
        },
        "6366b936-5b36-4251-b6ef-ec6c9badd2a2": {
          "id": "6366b936-5b36-4251-b6ef-ec6c9badd2a2",
          "prev": "e9e38cb2-1166-45b7-bfcb-bb63cbea28bb",
          "regions": {
            "b5e492df-22e0-4cc5-a235-74710fc15f8a": {
              "attrs": {
                "height": 0.8,
                "width": 0.8,
                "x": 0.1,
                "y": 0.1
              },
              "content": {
                "cell": "f6df3720-5bda-4664-b68f-31fc2bd37892",
                "part": "whole"
              },
              "id": "b5e492df-22e0-4cc5-a235-74710fc15f8a"
            }
          }
        },
        "65286945-77b7-415e-bbb7-b57f1776d3e4": {
          "id": "65286945-77b7-415e-bbb7-b57f1776d3e4",
          "prev": "94efea50-b5ac-4497-b90f-8548538d44df",
          "regions": {
            "4ecd87f3-a2c3-4761-a677-dc227d6df9de": {
              "attrs": {
                "height": 0.8,
                "width": 0.8,
                "x": 0.1,
                "y": 0.1
              },
              "content": {
                "cell": "616e01bc-f361-4841-85b0-21b5b0167dc4",
                "part": "whole"
              },
              "id": "4ecd87f3-a2c3-4761-a677-dc227d6df9de"
            }
          }
        },
        "67c2edad-3f2e-40be-b875-9d4120cb4ad7": {
          "id": "67c2edad-3f2e-40be-b875-9d4120cb4ad7",
          "prev": "5b7ea573-d1eb-4f12-a8a6-41457575b4e9",
          "regions": {
            "cba2915e-2dc6-43a6-ad68-fcbb5cae1d76": {
              "attrs": {
                "height": 0.8,
                "width": 0.8,
                "x": 0.1,
                "y": 0.1
              },
              "content": {
                "cell": "66c5449e-7327-4b31-aee8-488530a7b0d5",
                "part": "whole"
              },
              "id": "cba2915e-2dc6-43a6-ad68-fcbb5cae1d76"
            }
          }
        },
        "6cf64e82-8633-431e-ace2-d64e99a3efea": {
          "id": "6cf64e82-8633-431e-ace2-d64e99a3efea",
          "prev": "78b918d7-391a-42de-9781-fd76bbc896ca",
          "regions": {
            "813353ad-dc72-409e-be1a-f6e4733b339f": {
              "attrs": {
                "height": 0.8,
                "width": 0.8,
                "x": 0.1,
                "y": 0.1
              },
              "content": {
                "cell": "e57346c6-cb9e-4366-82a8-e3f35229501a",
                "part": "whole"
              },
              "id": "813353ad-dc72-409e-be1a-f6e4733b339f"
            },
            "c0f98b72-3f94-476f-a5d4-4fc0884473e0": {
              "attrs": {
                "height": 0.4,
                "width": 0.8,
                "x": 0.1,
                "y": 0.5
              },
              "content": {
                "cell": "df2c1646-4142-4b4a-8cf8-dec4b7cfca0b",
                "part": "whole"
              },
              "id": "c0f98b72-3f94-476f-a5d4-4fc0884473e0"
            }
          }
        },
        "6df886f8-5b49-4ac2-95a3-583c1c893642": {
          "id": "6df886f8-5b49-4ac2-95a3-583c1c893642",
          "prev": "3bf6cc64-674d-441f-b281-95b8a65efbb7",
          "regions": {
            "1743dc13-c3f9-4ba0-b016-f62ce464c99e": {
              "attrs": {
                "height": 0.8,
                "width": 0.8,
                "x": 0.1,
                "y": 0.1
              },
              "content": {
                "cell": "0aef1718-4ce6-4cf4-ad4e-72a84153f603",
                "part": "whole"
              },
              "id": "1743dc13-c3f9-4ba0-b016-f62ce464c99e"
            }
          }
        },
        "7036d34e-d0f7-4c8e-b453-5385227109b0": {
          "id": "7036d34e-d0f7-4c8e-b453-5385227109b0",
          "prev": "c76aebc7-7976-45db-a323-38412b328a57",
          "regions": {
            "b67d4190-6d83-4564-b5e0-f0f0c1180927": {
              "attrs": {
                "height": 0.8,
                "width": 0.8,
                "x": 0.1,
                "y": 0.1
              },
              "content": {
                "cell": "4efdb1bd-cc25-4c43-bcf6-d4f28b594271",
                "part": "whole"
              },
              "id": "b67d4190-6d83-4564-b5e0-f0f0c1180927"
            }
          }
        },
        "71dbc51a-ec10-4eb8-af23-a77a48549d44": {
          "id": "71dbc51a-ec10-4eb8-af23-a77a48549d44",
          "prev": "a8cbab7b-1494-4c45-b72d-3188efa5a737",
          "regions": {
            "637a4748-4a01-461a-8364-e08a83f15228": {
              "attrs": {
                "height": 0.8,
                "width": 0.8,
                "x": 0.1,
                "y": 0.1
              },
              "content": {
                "cell": "ca7b317d-e5fe-4eff-9729-1774384bf07b",
                "part": "whole"
              },
              "id": "637a4748-4a01-461a-8364-e08a83f15228"
            },
            "ea268932-174a-460f-848c-aecb28a6433f": {
              "attrs": {
                "height": 0.4,
                "width": 0.8,
                "x": 0.1,
                "y": 0.5
              },
              "content": {
                "cell": "fdce0179-6bc0-41ef-9658-6507a2602ff2",
                "part": "whole"
              },
              "id": "ea268932-174a-460f-848c-aecb28a6433f"
            }
          }
        },
        "78b918d7-391a-42de-9781-fd76bbc896ca": {
          "id": "78b918d7-391a-42de-9781-fd76bbc896ca",
          "prev": "a55e2c8c-094d-4c5d-9c84-5c924aa7c394",
          "regions": {
            "ba751469-c9d2-410d-9c72-ea1d14b4ce45": {
              "attrs": {
                "height": 0.4,
                "width": 0.8,
                "x": 0.1,
                "y": 0.5
              },
              "content": {
                "cell": "2412c56c-5817-4c11-ac12-d5df69913ade",
                "part": "whole"
              },
              "id": "ba751469-c9d2-410d-9c72-ea1d14b4ce45"
            },
            "cb85aae5-3544-42d5-b2e7-79010a4dd069": {
              "attrs": {
                "height": 0.8,
                "width": 0.8,
                "x": 0.1,
                "y": 0.1
              },
              "content": {
                "cell": "3830ef40-597d-430b-998e-5b03b13ba708",
                "part": "whole"
              },
              "id": "cb85aae5-3544-42d5-b2e7-79010a4dd069"
            }
          }
        },
        "7acf734e-923f-4825-8dd4-e021b3ae2683": {
          "id": "7acf734e-923f-4825-8dd4-e021b3ae2683",
          "prev": "65286945-77b7-415e-bbb7-b57f1776d3e4",
          "regions": {
            "571865df-3b6a-42a8-b02b-48ca1207e79c": {
              "attrs": {
                "height": 0.8,
                "width": 0.8,
                "x": 0.1,
                "y": 0.1
              },
              "content": {
                "cell": "124561aa-b334-4d5c-b514-40f3200d9616",
                "part": "whole"
              },
              "id": "571865df-3b6a-42a8-b02b-48ca1207e79c"
            }
          }
        },
        "846520f7-f8ca-49e6-8eaf-06d635aba36f": {
          "id": "846520f7-f8ca-49e6-8eaf-06d635aba36f",
          "prev": "5eeebf2c-d09e-4aab-a878-6c44e7ccbb5f",
          "regions": {
            "5b90158b-20c7-462f-8a41-409ec9e563b4": {
              "attrs": {
                "height": 0.8,
                "width": 0.8,
                "x": 0.1,
                "y": 0.1
              },
              "content": {
                "cell": "7c7445f2-d5bc-4969-a37b-557a2e69eead",
                "part": "whole"
              },
              "id": "5b90158b-20c7-462f-8a41-409ec9e563b4"
            }
          }
        },
        "8610569b-022a-4a36-b75d-f2cb19f7751b": {
          "id": "8610569b-022a-4a36-b75d-f2cb19f7751b",
          "prev": "6cf64e82-8633-431e-ace2-d64e99a3efea",
          "regions": {
            "65d9d9c6-1509-4bad-a04d-a62b3394937b": {
              "attrs": {
                "height": 0.4,
                "width": 0.8,
                "x": 0.1,
                "y": 0.5
              },
              "content": {
                "cell": "7cfdba0d-e8be-461c-b52f-57338128738b",
                "part": "whole"
              },
              "id": "65d9d9c6-1509-4bad-a04d-a62b3394937b"
            },
            "7f6a6a2c-ff15-40b6-9672-b1bad86e822a": {
              "attrs": {
                "height": 0.4,
                "width": 0.8,
                "x": 0.1,
                "y": 0.5
              },
              "content": {
                "cell": "6a0e3811-73f7-4223-8dc3-729567d6b48a",
                "part": "whole"
              },
              "id": "7f6a6a2c-ff15-40b6-9672-b1bad86e822a"
            },
            "e1bdb8a3-1588-415c-8647-1551fc350cb1": {
              "attrs": {
                "height": 0.8,
                "width": 0.8,
                "x": 0.1,
                "y": 0.1
              },
              "content": {
                "cell": "04eb7353-25b4-428c-baed-7f97e1526e52",
                "part": "whole"
              },
              "id": "e1bdb8a3-1588-415c-8647-1551fc350cb1"
            },
            "ef3db868-e1aa-436f-aef3-2c6c03ce96d3": {
              "attrs": {
                "height": 0.4,
                "width": 0.8,
                "x": 0.1,
                "y": 0.5
              },
              "content": {
                "cell": "c9a0b1e9-6f98-4b73-9ac5-dc0c57f45441",
                "part": "whole"
              },
              "id": "ef3db868-e1aa-436f-aef3-2c6c03ce96d3"
            }
          }
        },
        "8c6a2446-0585-4d1d-8d54-e954de251b0f": {
          "id": "8c6a2446-0585-4d1d-8d54-e954de251b0f",
          "prev": "8ce312b9-2f3f-48b8-9492-f99fe2788387",
          "regions": {
            "b401c5b6-9e7c-4884-974a-f9fbe7bfbb9e": {
              "attrs": {
                "height": 0.8,
                "width": 0.8,
                "x": 0.1,
                "y": 0.1
              },
              "content": {
                "cell": "0c54f3c9-6158-4675-b675-7229f346d172",
                "part": "whole"
              },
              "id": "b401c5b6-9e7c-4884-974a-f9fbe7bfbb9e"
            }
          }
        },
        "8c7efb39-482f-4c89-b12a-5e539e00e4dc": {
          "id": "8c7efb39-482f-4c89-b12a-5e539e00e4dc",
          "prev": "e7314a51-13ba-48ab-93a3-67f61bb897ae",
          "regions": {
            "110e1c09-312f-45c0-8620-532f0b292a74": {
              "attrs": {
                "height": 0.8,
                "width": 0.8,
                "x": 0.1,
                "y": 0.1
              },
              "content": {
                "cell": "210e2754-53e3-4267-afe3-8690e1a69948",
                "part": "whole"
              },
              "id": "110e1c09-312f-45c0-8620-532f0b292a74"
            }
          }
        },
        "8ce312b9-2f3f-48b8-9492-f99fe2788387": {
          "id": "8ce312b9-2f3f-48b8-9492-f99fe2788387",
          "prev": "c65a84d0-38c4-40b0-88b5-b53af6cbd9fb",
          "regions": {
            "9daf1bf5-4f9b-462c-880b-1e85cefa07e7": {
              "attrs": {
                "height": 0.8,
                "width": 0.8,
                "x": 0.1,
                "y": 0.1
              },
              "content": {
                "cell": "e1c0bb29-75b5-4465-b941-73c5194a6516",
                "part": "whole"
              },
              "id": "9daf1bf5-4f9b-462c-880b-1e85cefa07e7"
            }
          }
        },
        "90f590e4-8675-400e-93a6-5c472f709515": {
          "id": "90f590e4-8675-400e-93a6-5c472f709515",
          "prev": "21897ce9-9a3a-451d-9dca-b5e7c9a86dce",
          "regions": {
            "14400cbb-12d6-4b66-a6dc-509c48667e41": {
              "attrs": {
                "height": 0.8,
                "width": 0.8,
                "x": 0.1,
                "y": 0.1
              },
              "content": {
                "cell": "4220f1e7-eb05-4f71-ac83-666921b265ed",
                "part": "whole"
              },
              "id": "14400cbb-12d6-4b66-a6dc-509c48667e41"
            }
          }
        },
        "938cebbe-3328-42c9-ace3-7fd8eb72b0ca": {
          "id": "938cebbe-3328-42c9-ace3-7fd8eb72b0ca",
          "prev": "9ef21567-900e-433c-934a-ea62045c230d",
          "regions": {
            "5d6c75e6-0713-442f-b423-30c9b656529e": {
              "attrs": {
                "height": 0.8,
                "width": 0.8,
                "x": 0.1,
                "y": 0.1
              },
              "content": {
                "cell": "07648271-cf0f-46c8-81c9-f8990383b845",
                "part": "whole"
              },
              "id": "5d6c75e6-0713-442f-b423-30c9b656529e"
            }
          }
        },
        "94efea50-b5ac-4497-b90f-8548538d44df": {
          "id": "94efea50-b5ac-4497-b90f-8548538d44df",
          "prev": "1bbbcd0c-55d4-4b4f-8b8e-030968ab88ac",
          "regions": {
            "bf50fcfb-6240-4346-ad2c-2a8df72bac79": {
              "attrs": {
                "height": 0.8,
                "width": 0.8,
                "x": 0.1,
                "y": 0.1
              },
              "content": {
                "cell": "9f409bcd-b3eb-4428-b8f1-e3092c4a299e",
                "part": "whole"
              },
              "id": "bf50fcfb-6240-4346-ad2c-2a8df72bac79"
            }
          }
        },
        "969a2bd0-0362-4ff9-b1b6-2c1cc4757a5e": {
          "id": "969a2bd0-0362-4ff9-b1b6-2c1cc4757a5e",
          "prev": "7acf734e-923f-4825-8dd4-e021b3ae2683",
          "regions": {
            "0d0bb9ff-e616-4057-8602-c2da4cbc5d7d": {
              "attrs": {
                "height": 0.4,
                "width": 0.8,
                "x": 0.1,
                "y": 0.5
              },
              "content": {
                "cell": "427d9f1b-1b27-492d-8212-e66069d6b5f9",
                "part": "whole"
              },
              "id": "0d0bb9ff-e616-4057-8602-c2da4cbc5d7d"
            },
            "16194f61-986b-44d9-8dd1-50079a49e0e9": {
              "attrs": {
                "height": 0.4,
                "width": 0.8,
                "x": 0.1,
                "y": 0.5
              },
              "content": {
                "cell": "6acbc902-f7f9-4863-aa66-c490850b9c47",
                "part": "whole"
              },
              "id": "16194f61-986b-44d9-8dd1-50079a49e0e9"
            },
            "1b8ace69-0c3f-4e25-898f-f83094d4dbb5": {
              "attrs": {
                "height": 0.8,
                "width": 0.8,
                "x": 0.1,
                "y": 0.1
              },
              "content": {
                "cell": "73f32308-3e58-477b-85cc-9f96fff83666",
                "part": "whole"
              },
              "id": "1b8ace69-0c3f-4e25-898f-f83094d4dbb5"
            },
            "2493413f-c962-4429-8c84-17ae456eeeb3": {
              "attrs": {
                "height": 0.4,
                "width": 0.8,
                "x": 0.1,
                "y": 0.5
              },
              "content": {
                "cell": "185c508a-d82f-4779-b1c1-c436843ac503",
                "part": "whole"
              },
              "id": "2493413f-c962-4429-8c84-17ae456eeeb3"
            },
            "36d5ca99-cd39-4b7c-bd85-5d69faf6f55f": {
              "attrs": {
                "height": 0.4,
                "width": 0.8,
                "x": 0.1,
                "y": 0.5
              },
              "content": {
                "cell": "7309610f-1ce3-4130-aaf2-835ec6a306c4",
                "part": "whole"
              },
              "id": "36d5ca99-cd39-4b7c-bd85-5d69faf6f55f"
            }
          }
        },
        "96af0963-4c71-4980-91f9-33da56766d9e": {
          "id": "96af0963-4c71-4980-91f9-33da56766d9e",
          "prev": "aac693de-2452-44bb-aca5-c8ff9fa01f58",
          "regions": {
            "55ea8f25-d29c-4c6e-b44c-a7f8a0c51e35": {
              "attrs": {
                "height": 0.8,
                "width": 0.8,
                "x": 0.1,
                "y": 0.1
              },
              "content": {
                "cell": "2f1b9eab-6507-4392-9075-589b0eed8942",
                "part": "whole"
              },
              "id": "55ea8f25-d29c-4c6e-b44c-a7f8a0c51e35"
            }
          }
        },
        "98c74023-3fea-45e4-82df-efbb9bf30c07": {
          "id": "98c74023-3fea-45e4-82df-efbb9bf30c07",
          "prev": "8c7efb39-482f-4c89-b12a-5e539e00e4dc",
          "regions": {
            "7f5cd404-891c-4ad5-9996-b9d73b0a8fa4": {
              "attrs": {
                "height": 0.8,
                "width": 0.8,
                "x": 0.1,
                "y": 0.1
              },
              "content": {
                "cell": "8fcabcb1-6c7f-46cc-ad6b-481e5d13e8ce",
                "part": "whole"
              },
              "id": "7f5cd404-891c-4ad5-9996-b9d73b0a8fa4"
            }
          }
        },
        "9936f1f9-9b71-48f2-9a0f-be6ad0df5d6d": {
          "id": "9936f1f9-9b71-48f2-9a0f-be6ad0df5d6d",
          "prev": "f8644d87-96a3-4b8d-bfba-64ec5f35ff95",
          "regions": {
            "1d42444d-2ad6-4c6d-9d02-01dcac73aec8": {
              "attrs": {
                "height": 0.8,
                "width": 0.8,
                "x": 0.1,
                "y": 0.1
              },
              "content": {
                "cell": "209caf8e-3d4f-4c00-971c-1a46e416ce72",
                "part": "whole"
              },
              "id": "1d42444d-2ad6-4c6d-9d02-01dcac73aec8"
            },
            "d0abcf2a-07d0-4a83-91e6-b2c97511a900": {
              "attrs": {
                "height": 0.4,
                "width": 0.8,
                "x": 0.1,
                "y": 0.5
              },
              "content": {
                "cell": "ed8c24ff-b9dd-4c84-a094-092945a9fc9f",
                "part": "whole"
              },
              "id": "d0abcf2a-07d0-4a83-91e6-b2c97511a900"
            }
          }
        },
        "9a7a389b-24ae-4997-87b4-a1bd678c84a4": {
          "id": "9a7a389b-24ae-4997-87b4-a1bd678c84a4",
          "prev": "f0ea318f-c113-4e80-9bcc-80f9fdacd504",
          "regions": {
            "c2e6c9a0-5d07-4355-8086-9520b34f0ba9": {
              "attrs": {
                "height": 0.8,
                "width": 0.8,
                "x": 0.1,
                "y": 0.1
              },
              "content": {
                "cell": "29849887-d82a-44fb-ad51-37f9aa11cd1d",
                "part": "whole"
              },
              "id": "c2e6c9a0-5d07-4355-8086-9520b34f0ba9"
            }
          }
        },
        "9ef21567-900e-433c-934a-ea62045c230d": {
          "id": "9ef21567-900e-433c-934a-ea62045c230d",
          "prev": "efd113a9-0314-4c86-ad44-fb322cdf3cae",
          "regions": {
            "32200910-5286-4d65-b909-fe17eb5a73f4": {
              "attrs": {
                "height": 0.8,
                "width": 0.8,
                "x": 0.1,
                "y": 0.1
              },
              "content": {
                "cell": "a1bb5f66-937c-43a3-abe1-7e957a3d99ee",
                "part": "whole"
              },
              "id": "32200910-5286-4d65-b909-fe17eb5a73f4"
            }
          }
        },
        "a0dde674-4ddb-4cdd-a20b-b02cf3ffd9e5": {
          "id": "a0dde674-4ddb-4cdd-a20b-b02cf3ffd9e5",
          "prev": "98c74023-3fea-45e4-82df-efbb9bf30c07",
          "regions": {
            "6a869d1a-5ccf-4b16-bb79-6bc6d4b0c51e": {
              "attrs": {
                "height": 0.4,
                "width": 0.8,
                "x": 0.1,
                "y": 0.5
              },
              "content": {
                "cell": "881ce917-44d8-48d6-9bb1-7fc3df5ff523",
                "part": "whole"
              },
              "id": "6a869d1a-5ccf-4b16-bb79-6bc6d4b0c51e"
            },
            "6dab7940-54ac-4f96-8418-9955d51f6366": {
              "attrs": {
                "height": 0.4,
                "width": 0.8,
                "x": 0.1,
                "y": 0.5
              },
              "content": {
                "cell": "6068530a-14e6-47b6-97be-98c8ab9c1813",
                "part": "whole"
              },
              "id": "6dab7940-54ac-4f96-8418-9955d51f6366"
            },
            "9262ff23-779f-4ec9-909c-a8f6868e3e58": {
              "attrs": {
                "height": 0.8,
                "width": 0.8,
                "x": 0.1,
                "y": 0.1
              },
              "content": {
                "cell": "5a12823d-412f-496b-bc68-7b6bc4ec3963",
                "part": "whole"
              },
              "id": "9262ff23-779f-4ec9-909c-a8f6868e3e58"
            },
            "ae8f76b5-c896-4705-8828-c61824692737": {
              "attrs": {
                "height": 0.4,
                "width": 0.8,
                "x": 0.1,
                "y": 0.5
              },
              "content": {
                "cell": "99823be0-5e82-4c03-a361-4117e54fed12",
                "part": "whole"
              },
              "id": "ae8f76b5-c896-4705-8828-c61824692737"
            }
          }
        },
        "a55e2c8c-094d-4c5d-9c84-5c924aa7c394": {
          "id": "a55e2c8c-094d-4c5d-9c84-5c924aa7c394",
          "prev": "1cc58670-9996-4ef3-8e5a-ed9a8e887979",
          "regions": {
            "793299b4-361d-4426-a1f0-ec8ab98756f4": {
              "attrs": {
                "height": 0.4,
                "width": 0.8,
                "x": 0.1,
                "y": 0.5
              },
              "content": {
                "cell": "f5d835f4-5a1d-4fb9-8690-d0eb9ac50cd7",
                "part": "whole"
              },
              "id": "793299b4-361d-4426-a1f0-ec8ab98756f4"
            },
            "a3e862f7-a078-40b6-b554-e25adf9af4ec": {
              "attrs": {
                "height": 0.4,
                "width": 0.8,
                "x": 0.1,
                "y": 0.5
              },
              "content": {
                "cell": "516a5178-30fc-42bc-953a-d8868c6e5189",
                "part": "whole"
              },
              "id": "a3e862f7-a078-40b6-b554-e25adf9af4ec"
            },
            "caa8aa97-df54-4431-8c2a-428b166ef65d": {
              "attrs": {
                "height": 0.8,
                "width": 0.8,
                "x": 0.1,
                "y": 0.1
              },
              "content": {
                "cell": "02d0f47f-d689-41f1-a3bb-9e76a6144be9",
                "part": "whole"
              },
              "id": "caa8aa97-df54-4431-8c2a-428b166ef65d"
            }
          }
        },
        "a7f28d6a-4bd0-4395-ab25-dec44a20d117": {
          "id": "a7f28d6a-4bd0-4395-ab25-dec44a20d117",
          "prev": "0c45ad51-4984-46a5-856e-87ee5c8e9913",
          "regions": {
            "3e33572a-bbd4-4e07-aaa8-6f906e4ddef3": {
              "attrs": {
                "height": 0.8,
                "width": 0.8,
                "x": 0.1,
                "y": 0.1
              },
              "content": {
                "cell": "baa5784e-bc3a-44f0-9392-231a19a7aa4f",
                "part": "whole"
              },
              "id": "3e33572a-bbd4-4e07-aaa8-6f906e4ddef3"
            }
          }
        },
        "a8cbab7b-1494-4c45-b72d-3188efa5a737": {
          "id": "a8cbab7b-1494-4c45-b72d-3188efa5a737",
          "prev": "070c9f9b-a21d-4c78-88e2-154e3faa2c07",
          "regions": {
            "566d5334-41f1-4aba-9590-3096b587a090": {
              "attrs": {
                "height": 0.8,
                "width": 0.8,
                "x": 0.1,
                "y": 0.1
              },
              "content": {
                "cell": "d597b2cd-6c70-4137-8ad8-2d9a96299531",
                "part": "whole"
              },
              "id": "566d5334-41f1-4aba-9590-3096b587a090"
            }
          }
        },
        "a9f12b72-ee3c-4bdc-995c-cd54f6661066": {
          "id": "a9f12b72-ee3c-4bdc-995c-cd54f6661066",
          "prev": "c402c1f5-0c43-4110-b53d-1f14f7085a07",
          "regions": {
            "1cc5a5af-f84f-47fc-ac12-70e256e7960e": {
              "attrs": {
                "height": 0.4,
                "width": 0.8,
                "x": 0.1,
                "y": 0.5
              },
              "content": {
                "cell": "2f0582c6-0d23-4306-bd51-4c080c177992",
                "part": "whole"
              },
              "id": "1cc5a5af-f84f-47fc-ac12-70e256e7960e"
            },
            "bfb12092-e288-4cc0-8fa7-ffe6b4458c9e": {
              "attrs": {
                "height": 0.8,
                "width": 0.8,
                "x": 0.1,
                "y": 0.1
              },
              "content": {
                "cell": "7f6972f7-0655-4549-bd67-f34a47f956f3",
                "part": "whole"
              },
              "id": "bfb12092-e288-4cc0-8fa7-ffe6b4458c9e"
            }
          }
        },
        "aac693de-2452-44bb-aca5-c8ff9fa01f58": {
          "id": "aac693de-2452-44bb-aca5-c8ff9fa01f58",
          "prev": "a7f28d6a-4bd0-4395-ab25-dec44a20d117",
          "regions": {
            "b9cbf30a-9fce-4a2e-ae64-bf98717e0f23": {
              "attrs": {
                "height": 0.8,
                "width": 0.8,
                "x": 0.1,
                "y": 0.1
              },
              "content": {
                "cell": "35a97d88-06fd-4214-b66d-718b86c22097",
                "part": "whole"
              },
              "id": "b9cbf30a-9fce-4a2e-ae64-bf98717e0f23"
            }
          }
        },
        "ac5c6789-f81c-478e-be10-2200388e7504": {
          "id": "ac5c6789-f81c-478e-be10-2200388e7504",
          "prev": "ea0b26d7-3986-4a11-9a63-29917c27c614",
          "regions": {
            "426bc8fb-0f17-406c-8ad9-92a05ddb5c2f": {
              "attrs": {
                "height": 0.8,
                "width": 0.8,
                "x": 0.1,
                "y": 0.1
              },
              "content": {
                "cell": "23245f34-ec66-4c08-9037-9f74f45ea1e4",
                "part": "whole"
              },
              "id": "426bc8fb-0f17-406c-8ad9-92a05ddb5c2f"
            }
          }
        },
        "b31faca9-e6d3-4e83-b6dd-17589a946d28": {
          "id": "b31faca9-e6d3-4e83-b6dd-17589a946d28",
          "prev": "6053802b-d657-4859-9223-e680e00a9b8d",
          "regions": {
            "0fbcb736-176a-4cfa-aab7-1c0be1ef59ae": {
              "attrs": {
                "height": 0.8,
                "width": 0.8,
                "x": 0.1,
                "y": 0.1
              },
              "content": {
                "cell": "d5b68c44-b762-491a-998a-75a98ef5f653",
                "part": "whole"
              },
              "id": "0fbcb736-176a-4cfa-aab7-1c0be1ef59ae"
            },
            "f86db95e-14a0-469c-afa9-076b859595ad": {
              "attrs": {
                "height": 0.4,
                "width": 0.8,
                "x": 0.1,
                "y": 0.5
              },
              "content": {
                "cell": "c417998a-8f33-4b7f-8a76-f591262fdca5",
                "part": "whole"
              },
              "id": "f86db95e-14a0-469c-afa9-076b859595ad"
            }
          }
        },
        "b320e403-c69e-454e-b6e7-72db7d370583": {
          "id": "b320e403-c69e-454e-b6e7-72db7d370583",
          "prev": "62cd72b4-9259-44ee-a1bd-1b9df790624f",
          "regions": {
            "7017dde0-0d5c-4861-b270-c7f774fb00bb": {
              "attrs": {
                "height": 0.8,
                "width": 0.8,
                "x": 0.1,
                "y": 0.1
              },
              "content": {
                "cell": "608f59d8-90c7-4564-ba0a-761571204f96",
                "part": "whole"
              },
              "id": "7017dde0-0d5c-4861-b270-c7f774fb00bb"
            },
            "c4ca6254-0e03-4b6b-adae-51bbb4a15052": {
              "attrs": {
                "height": 0.4,
                "width": 0.8,
                "x": 0.1,
                "y": 0.5
              },
              "content": {
                "cell": "c55868cf-4170-4a35-8079-842c07c89c4d",
                "part": "whole"
              },
              "id": "c4ca6254-0e03-4b6b-adae-51bbb4a15052"
            },
            "ed90ae17-bade-4698-bcfc-e1aa3e770f3e": {
              "attrs": {
                "height": 0.4,
                "width": 0.8,
                "x": 0.1,
                "y": 0.5
              },
              "content": {
                "cell": "df258788-b3e7-4b67-ab71-1df841724458",
                "part": "whole"
              },
              "id": "ed90ae17-bade-4698-bcfc-e1aa3e770f3e"
            }
          }
        },
        "b623c826-f1ef-43ee-889e-b849c9fc87ce": {
          "id": "b623c826-f1ef-43ee-889e-b849c9fc87ce",
          "prev": "b31faca9-e6d3-4e83-b6dd-17589a946d28",
          "regions": {
            "7043f42d-7356-42fd-96d2-a5f1cbe01e9b": {
              "attrs": {
                "height": 0.4,
                "width": 0.8,
                "x": 0.1,
                "y": 0.5
              },
              "content": {
                "cell": "5dcbe1f2-cc95-40d5-86b5-832f83904c78",
                "part": "whole"
              },
              "id": "7043f42d-7356-42fd-96d2-a5f1cbe01e9b"
            },
            "a0b3a44a-666a-4807-a023-7a2e2a8920dd": {
              "attrs": {
                "height": 0.8,
                "width": 0.8,
                "x": 0.1,
                "y": 0.1
              },
              "content": {
                "cell": "400ef716-2eb7-4971-a567-f4d752405df1",
                "part": "whole"
              },
              "id": "a0b3a44a-666a-4807-a023-7a2e2a8920dd"
            }
          }
        },
        "b93f029e-08fc-435c-a8c1-7b63c6d0b20d": {
          "id": "b93f029e-08fc-435c-a8c1-7b63c6d0b20d",
          "prev": "6366b936-5b36-4251-b6ef-ec6c9badd2a2",
          "regions": {
            "320f08df-9826-4bc0-88ed-afe639dd9d98": {
              "attrs": {
                "height": 0.8,
                "width": 0.8,
                "x": 0.1,
                "y": 0.1
              },
              "content": {
                "cell": "dcb72829-537a-4e38-a876-47a7c7c3b44f",
                "part": "whole"
              },
              "id": "320f08df-9826-4bc0-88ed-afe639dd9d98"
            }
          }
        },
        "bd8700af-e789-44d4-a2b9-75431c1b5de7": {
          "id": "bd8700af-e789-44d4-a2b9-75431c1b5de7",
          "prev": "52b8b057-93f8-4958-9834-05f15f948afb",
          "regions": {
            "2d1918a7-6f1b-46ea-a99d-f3f8b6b253f2": {
              "attrs": {
                "height": 0.8,
                "width": 0.8,
                "x": 0.1,
                "y": 0.1
              },
              "content": {
                "cell": "bc8d8fa2-1bda-4fd8-97f7-368ae8c8ee5d",
                "part": "whole"
              },
              "id": "2d1918a7-6f1b-46ea-a99d-f3f8b6b253f2"
            }
          }
        },
        "be57be5d-cdf5-4ae6-9fa9-c039ae7a7837": {
          "id": "be57be5d-cdf5-4ae6-9fa9-c039ae7a7837",
          "prev": "2cbb52d0-296f-427f-99ad-714b2e80255f",
          "regions": {
            "e3c9df79-f532-4ad8-ab7c-e60c96297ef9": {
              "attrs": {
                "height": 0.8,
                "width": 0.8,
                "x": 0.1,
                "y": 0.1
              },
              "content": {
                "cell": "ccd40e56-a3da-487a-b76b-c75796799720",
                "part": "whole"
              },
              "id": "e3c9df79-f532-4ad8-ab7c-e60c96297ef9"
            }
          }
        },
        "c027cf57-7a30-42ba-9831-86003f404035": {
          "id": "c027cf57-7a30-42ba-9831-86003f404035",
          "prev": "eb2402e5-aa68-4250-ac55-62960e991439",
          "regions": {
            "9349447d-ac41-4419-9b0b-e6097eaa3af2": {
              "attrs": {
                "height": 0.8,
                "width": 0.8,
                "x": 0.1,
                "y": 0.1
              },
              "content": {
                "cell": "081bd12b-a668-470a-a992-e3e788fd65f1",
                "part": "whole"
              },
              "id": "9349447d-ac41-4419-9b0b-e6097eaa3af2"
            }
          }
        },
        "c13b30fb-5edb-4f37-baf6-c5dfc11b0599": {
          "id": "c13b30fb-5edb-4f37-baf6-c5dfc11b0599",
          "prev": "136d970f-b4d9-445a-9e91-565107f52aa6",
          "regions": {
            "e90a8fd8-8996-4b1d-a1c5-ff72605a9595": {
              "attrs": {
                "height": 0.8,
                "width": 0.8,
                "x": 0.1,
                "y": 0.1
              },
              "content": {
                "cell": "8b813ecc-9628-442d-8baf-8d83e2d4cac3",
                "part": "whole"
              },
              "id": "e90a8fd8-8996-4b1d-a1c5-ff72605a9595"
            }
          }
        },
        "c3d2eed8-b23b-4fff-b929-ba5a98657cad": {
          "id": "c3d2eed8-b23b-4fff-b929-ba5a98657cad",
          "prev": "34910890-e332-494f-a001-db7aa378ba4a",
          "regions": {
            "6cd54410-ee2b-4a25-b07a-73669e3ee6cb": {
              "attrs": {
                "height": 0.4,
                "width": 0.8,
                "x": 0.1,
                "y": 0.5
              },
              "content": {
                "cell": "1b3635f4-3f13-4c31-94b6-d7619c8cec31",
                "part": "whole"
              },
              "id": "6cd54410-ee2b-4a25-b07a-73669e3ee6cb"
            },
            "cd27065f-2cf3-49b6-b204-5d118f132c07": {
              "attrs": {
                "height": 0.8,
                "width": 0.8,
                "x": 0.1,
                "y": 0.1
              },
              "content": {
                "cell": "61b45744-b9fe-4f8d-9fb0-3e5e6a5d2fd0",
                "part": "whole"
              },
              "id": "cd27065f-2cf3-49b6-b204-5d118f132c07"
            }
          }
        },
        "c402c1f5-0c43-4110-b53d-1f14f7085a07": {
          "id": "c402c1f5-0c43-4110-b53d-1f14f7085a07",
          "prev": "b320e403-c69e-454e-b6e7-72db7d370583",
          "regions": {
            "3940c42d-964f-479c-8523-02983fdf9c89": {
              "attrs": {
                "height": 0.8,
                "width": 0.8,
                "x": 0.1,
                "y": 0.1
              },
              "content": {
                "cell": "db970f2a-04fe-41b7-81a5-26c117760c29",
                "part": "whole"
              },
              "id": "3940c42d-964f-479c-8523-02983fdf9c89"
            },
            "5c854201-b222-4887-8a64-c86689861d6a": {
              "attrs": {
                "height": 0.4,
                "width": 0.8,
                "x": 0.1,
                "y": 0.5
              },
              "content": {
                "cell": "8c2a43e4-93f9-4628-93f4-80748a4de5a2",
                "part": "whole"
              },
              "id": "5c854201-b222-4887-8a64-c86689861d6a"
            }
          }
        },
        "c65a84d0-38c4-40b0-88b5-b53af6cbd9fb": {
          "id": "c65a84d0-38c4-40b0-88b5-b53af6cbd9fb",
          "prev": "1a58efb1-7ce3-4ced-823f-4dd9697607c2",
          "regions": {
            "928a784f-2cfc-4e7f-a553-9f51926fd944": {
              "attrs": {
                "height": 0.8,
                "width": 0.8,
                "x": 0.1,
                "y": 0.1
              },
              "content": {
                "cell": "a351861e-3cb2-4127-8672-1cc00e1bc6e5",
                "part": "whole"
              },
              "id": "928a784f-2cfc-4e7f-a553-9f51926fd944"
            }
          }
        },
        "c76aebc7-7976-45db-a323-38412b328a57": {
          "id": "c76aebc7-7976-45db-a323-38412b328a57",
          "prev": "b93f029e-08fc-435c-a8c1-7b63c6d0b20d",
          "regions": {
            "1db25e7f-e4a2-4ef9-981c-a1b01e5ebbf9": {
              "attrs": {
                "height": 0.4,
                "width": 0.8,
                "x": 0.1,
                "y": 0.5
              },
              "content": {
                "cell": "b1795315-0947-40ec-8904-6ff545cdd25b",
                "part": "whole"
              },
              "id": "1db25e7f-e4a2-4ef9-981c-a1b01e5ebbf9"
            },
            "45ceba4f-563a-49b6-9d29-19cf83132cd0": {
              "attrs": {
                "height": 0.8,
                "width": 0.8,
                "x": 0.1,
                "y": 0.1
              },
              "content": {
                "cell": "14756c13-08ef-4de1-8de5-8f2004f4f9f7",
                "part": "whole"
              },
              "id": "45ceba4f-563a-49b6-9d29-19cf83132cd0"
            }
          }
        },
        "d1578704-7815-4900-bcc1-5e54f2896b84": {
          "id": "d1578704-7815-4900-bcc1-5e54f2896b84",
          "prev": "0e249c9a-4300-49ea-8584-acdef51ba265",
          "regions": {
            "2723eac9-9ab1-4809-9f3a-b01747f5642b": {
              "attrs": {
                "height": 0.8,
                "width": 0.8,
                "x": 0.1,
                "y": 0.1
              },
              "content": {
                "cell": "5b6dc236-222e-43e7-875f-68d072ebcd91",
                "part": "whole"
              },
              "id": "2723eac9-9ab1-4809-9f3a-b01747f5642b"
            }
          }
        },
        "da4d55b3-839f-4375-827f-df2efa947646": {
          "id": "da4d55b3-839f-4375-827f-df2efa947646",
          "prev": "938cebbe-3328-42c9-ace3-7fd8eb72b0ca",
          "regions": {
            "683e0eb2-9094-4582-b735-6599ce85a2cb": {
              "attrs": {
                "height": 0.8,
                "width": 0.8,
                "x": 0.1,
                "y": 0.1
              },
              "content": {
                "cell": "583c1d13-89c7-40b7-bcfb-5daabbfd7573",
                "part": "whole"
              },
              "id": "683e0eb2-9094-4582-b735-6599ce85a2cb"
            }
          }
        },
        "df9e51fa-bb40-4bd1-a4cd-6ddf54b500ee": {
          "id": "df9e51fa-bb40-4bd1-a4cd-6ddf54b500ee",
          "prev": "7036d34e-d0f7-4c8e-b453-5385227109b0",
          "regions": {
            "c9fe5483-5af2-4a66-bf0a-2d192a25cf35": {
              "attrs": {
                "height": 0.4,
                "width": 0.8,
                "x": 0.1,
                "y": 0.5
              },
              "content": {
                "cell": "3bd5d11d-ab3e-49e9-a038-1e6f09ca3f52",
                "part": "whole"
              },
              "id": "c9fe5483-5af2-4a66-bf0a-2d192a25cf35"
            },
            "f59f2167-f20a-4448-baf9-a44afb38033f": {
              "attrs": {
                "height": 0.8,
                "width": 0.8,
                "x": 0.1,
                "y": 0.1
              },
              "content": {
                "cell": "1d814872-a4f6-444f-9967-d7d159fc198a",
                "part": "whole"
              },
              "id": "f59f2167-f20a-4448-baf9-a44afb38033f"
            }
          }
        },
        "e7314a51-13ba-48ab-93a3-67f61bb897ae": {
          "id": "e7314a51-13ba-48ab-93a3-67f61bb897ae",
          "prev": "969a2bd0-0362-4ff9-b1b6-2c1cc4757a5e",
          "regions": {
            "63076912-1361-4d7c-bfe6-eee29f6c5674": {
              "attrs": {
                "height": 0.8,
                "width": 0.8,
                "x": 0.1,
                "y": 0.1
              },
              "content": {
                "cell": "4d8dd3a5-113e-4d02-b909-09f752dbd8ae",
                "part": "whole"
              },
              "id": "63076912-1361-4d7c-bfe6-eee29f6c5674"
            }
          }
        },
        "e75b19c4-1770-4292-bf2a-72fa26e0d9f6": {
          "id": "e75b19c4-1770-4292-bf2a-72fa26e0d9f6",
          "prev": "111bc524-7ede-4866-bcaa-14d9e9e026ee",
          "regions": {
            "ece1829b-a8c2-43b1-b23f-177461992313": {
              "attrs": {
                "height": 0.8,
                "width": 0.8,
                "x": 0.1,
                "y": 0.1
              },
              "content": {
                "cell": "f58059e9-9992-48a1-a9f5-3bd1d86ee56c",
                "part": "whole"
              },
              "id": "ece1829b-a8c2-43b1-b23f-177461992313"
            }
          }
        },
        "e9e38cb2-1166-45b7-bfcb-bb63cbea28bb": {
          "id": "e9e38cb2-1166-45b7-bfcb-bb63cbea28bb",
          "prev": "21dbec46-aa2b-4eea-aef2-4024cc967c12",
          "regions": {
            "12965d93-747e-49e6-8683-ac22749a010a": {
              "attrs": {
                "height": 0.8,
                "width": 0.8,
                "x": 0.1,
                "y": 0.1
              },
              "content": {
                "cell": "f77eff27-3a66-4873-8b2d-e9f6764e7319",
                "part": "whole"
              },
              "id": "12965d93-747e-49e6-8683-ac22749a010a"
            }
          }
        },
        "ea0b26d7-3986-4a11-9a63-29917c27c614": {
          "id": "ea0b26d7-3986-4a11-9a63-29917c27c614",
          "prev": "5c391c71-5a53-49a8-b5e7-8c508c0d0e4b",
          "regions": {
            "8e38b0b9-266c-4953-8208-55da4eacbe68": {
              "attrs": {
                "height": 0.8,
                "width": 0.8,
                "x": 0.1,
                "y": 0.1
              },
              "content": {
                "cell": "286a3756-8ae9-402d-8354-59ccbef4172a",
                "part": "whole"
              },
              "id": "8e38b0b9-266c-4953-8208-55da4eacbe68"
            }
          }
        },
        "eb2402e5-aa68-4250-ac55-62960e991439": {
          "id": "eb2402e5-aa68-4250-ac55-62960e991439",
          "prev": "c13b30fb-5edb-4f37-baf6-c5dfc11b0599",
          "regions": {
            "2283596b-ede9-4bed-9835-36cb1cf083b2": {
              "attrs": {
                "height": 0.8,
                "width": 0.8,
                "x": 0.1,
                "y": 0.1
              },
              "content": {
                "cell": "5315b783-7c38-40d5-afbd-e44902aa1d40",
                "part": "whole"
              },
              "id": "2283596b-ede9-4bed-9835-36cb1cf083b2"
            }
          }
        },
        "efd113a9-0314-4c86-ad44-fb322cdf3cae": {
          "id": "efd113a9-0314-4c86-ad44-fb322cdf3cae",
          "prev": "df9e51fa-bb40-4bd1-a4cd-6ddf54b500ee",
          "regions": {
            "31cb2a75-1016-41b5-b671-9c3024c2d8eb": {
              "attrs": {
                "height": 0.8,
                "width": 0.8,
                "x": 0.1,
                "y": 0.1
              },
              "content": {
                "cell": "24f767e9-7f2e-4d96-a6b2-74fd17f93a1e",
                "part": "whole"
              },
              "id": "31cb2a75-1016-41b5-b671-9c3024c2d8eb"
            }
          }
        },
        "f0ea318f-c113-4e80-9bcc-80f9fdacd504": {
          "id": "f0ea318f-c113-4e80-9bcc-80f9fdacd504",
          "prev": "e75b19c4-1770-4292-bf2a-72fa26e0d9f6",
          "regions": {
            "1986640a-eccf-4dc9-babf-38024e459c9c": {
              "attrs": {
                "height": 0.8,
                "width": 0.8,
                "x": 0.1,
                "y": 0.1
              },
              "content": {
                "cell": "bbfe2158-7de8-453d-bd1b-24c00480279c",
                "part": "whole"
              },
              "id": "1986640a-eccf-4dc9-babf-38024e459c9c"
            }
          }
        },
        "f66ca40e-1205-4d69-9a5f-17d9ae0638e0": {
          "id": "f66ca40e-1205-4d69-9a5f-17d9ae0638e0",
          "prev": "0c636a22-cdc3-42cc-942f-cc6bcfc6028f",
          "regions": {
            "8dd9ffd6-2881-4d15-9181-b7072de8b940": {
              "attrs": {
                "height": 0.8,
                "width": 0.8,
                "x": 0.1,
                "y": 0.1
              },
              "content": {
                "cell": "6b194ea5-c41d-4b7b-a134-3693316a8ed1",
                "part": "whole"
              },
              "id": "8dd9ffd6-2881-4d15-9181-b7072de8b940"
            }
          }
        },
        "f7431e5b-a7b6-4b9d-b963-d88894a8c28b": {
          "id": "f7431e5b-a7b6-4b9d-b963-d88894a8c28b",
          "prev": "8610569b-022a-4a36-b75d-f2cb19f7751b",
          "regions": {
            "12fcbd75-2e98-443c-93e5-04642136db9c": {
              "attrs": {
                "height": 0.4,
                "width": 0.8,
                "x": 0.1,
                "y": 0.5
              },
              "content": {
                "cell": "f4d425de-ef37-454b-a12a-aaf2e7829177",
                "part": "whole"
              },
              "id": "12fcbd75-2e98-443c-93e5-04642136db9c"
            },
            "17c0c465-05ad-447a-badd-cf23544770d2": {
              "attrs": {
                "height": 0.8,
                "width": 0.8,
                "x": 0.1,
                "y": 0.1
              },
              "content": {
                "cell": "c5e2c853-13bf-45a9-90c3-b0bff152194f",
                "part": "whole"
              },
              "id": "17c0c465-05ad-447a-badd-cf23544770d2"
            }
          }
        },
        "f8644d87-96a3-4b8d-bfba-64ec5f35ff95": {
          "id": "f8644d87-96a3-4b8d-bfba-64ec5f35ff95",
          "prev": "71dbc51a-ec10-4eb8-af23-a77a48549d44",
          "regions": {
            "89572019-5aa6-4143-91dc-7e760b16d964": {
              "attrs": {
                "height": 0.4,
                "width": 0.8,
                "x": 0.1,
                "y": 0.5
              },
              "content": {
                "cell": "42b2e7ba-9fef-4534-b938-5d4286c17222",
                "part": "whole"
              },
              "id": "89572019-5aa6-4143-91dc-7e760b16d964"
            },
            "a24f8b3a-896a-411b-872e-9615c2ff02d3": {
              "attrs": {
                "height": 0.8,
                "width": 0.8,
                "x": 0.1,
                "y": 0.1
              },
              "content": {
                "cell": "2916f338-9da0-447a-a300-396b42ac55d2",
                "part": "whole"
              },
              "id": "a24f8b3a-896a-411b-872e-9615c2ff02d3"
            },
            "fd7900ec-c058-4810-9854-163d76d31828": {
              "attrs": {
                "height": 0.4,
                "width": 0.8,
                "x": 0.1,
                "y": 0.5
              },
              "content": {
                "cell": "ab54a5c2-3ef0-42a8-841b-071b464ffe0d",
                "part": "whole"
              },
              "id": "fd7900ec-c058-4810-9854-163d76d31828"
            }
          }
        },
        "fb24bf97-17c9-4943-958a-fc45cd6f2308": {
          "id": "fb24bf97-17c9-4943-958a-fc45cd6f2308",
          "prev": "56e2dddd-fbe5-4a66-872b-aaad161179fe",
          "regions": {
            "519bd6e7-0254-43a6-bf8e-5398a3749687": {
              "attrs": {
                "height": 0.4,
                "width": 0.8,
                "x": 0.1,
                "y": 0.5
              },
              "content": {
                "cell": "85b5dbdb-d611-4f8a-a6bd-4c38c95d03b5",
                "part": "whole"
              },
              "id": "519bd6e7-0254-43a6-bf8e-5398a3749687"
            },
            "cc6bcba4-9852-4a88-b179-9fc47b7be345": {
              "attrs": {
                "height": 0.8,
                "width": 0.8,
                "x": 0.1,
                "y": 0.1
              },
              "content": {
                "cell": "8cce32f9-2bab-4088-bcc2-d79870d1abad",
                "part": "whole"
              },
              "id": "cc6bcba4-9852-4a88-b179-9fc47b7be345"
            }
          }
        }
      },
      "themes": {}
    },
    "colab": {
      "provenance": [],
      "collapsed_sections": [
        "QsoygcLcSF2Z",
        "BsUD_MbL8hAy",
        "-vRuDaYU8hBA",
        "Hi-IgJ8m8hBD"
      ]
    }
  },
  "cells": [
    {
      "cell_type": "markdown",
      "metadata": {
        "id": "QsoygcLcSF2Z"
      },
      "source": [
        "# Importing packages and methods"
      ]
    },
    {
      "cell_type": "code",
      "metadata": {
        "internals": {
          "slide_helper": "subslide_end"
        },
        "nbpresent": {
          "id": "4ea0bab4-8106-4527-a1c3-54a6b25ebb5f"
        },
        "slide_helper": "slide_end",
        "id": "5dNvQzwk8hAp"
      },
      "source": [
        "import time, array, random, copy, math, six, itertools\n",
        "import numpy as np\n",
        "import pandas as pd"
      ],
      "execution_count": 1,
      "outputs": []
    },
    {
      "cell_type": "code",
      "metadata": {
        "id": "CZwrrQoM8hAp"
      },
      "source": [
        "import matplotlib as mpl\n",
        "import matplotlib.pyplot as plt\n",
        "import mpl_toolkits.mplot3d as a3\n",
        "from matplotlib.path import Path\n",
        "from matplotlib import animation, patches\n",
        "from IPython.display import HTML\n",
        "%matplotlib inline\n",
        "%config InlineBackend.figure_format = 'retina'"
      ],
      "execution_count": 2,
      "outputs": []
    },
    {
      "cell_type": "code",
      "metadata": {
        "id": "4BoEFTds8hAp"
      },
      "source": [
        "import seaborn\n",
        "seaborn.set(style='whitegrid')\n",
        "seaborn.set_context('talk')"
      ],
      "execution_count": 3,
      "outputs": []
    },
    {
      "cell_type": "code",
      "metadata": {
        "id": "rKukpAaN8hAq"
      },
      "source": [
        "markers = ['o', '^', 's', 'D', 'v', 'h', 'p']"
      ],
      "execution_count": 4,
      "outputs": []
    },
    {
      "cell_type": "code",
      "metadata": {
        "colab": {
          "base_uri": "https://localhost:8080/"
        },
        "id": "_sZ_zqdb8hAq",
        "outputId": "02054f1d-5e46-4f64-9412-50dfe77e057f"
      },
      "source": [
        "pip install git+git://github.com/mkrphys/ipython-tikzmagic.git"
      ],
      "execution_count": 5,
      "outputs": [
        {
          "output_type": "stream",
          "name": "stdout",
          "text": [
            "Collecting git+git://github.com/mkrphys/ipython-tikzmagic.git\n",
            "  Cloning git://github.com/mkrphys/ipython-tikzmagic.git to /tmp/pip-req-build-kh5l3tar\n",
            "  Running command git clone --filter=blob:none --quiet git://github.com/mkrphys/ipython-tikzmagic.git /tmp/pip-req-build-kh5l3tar\n",
            "  fatal: unable to connect to github.com:\n",
            "  github.com[0: 140.82.121.3]: errno=Connection timed out\n",
            "\n",
            "  \u001b[1;31merror\u001b[0m: \u001b[1msubprocess-exited-with-error\u001b[0m\n",
            "  \n",
            "  \u001b[31m×\u001b[0m \u001b[32mgit clone --\u001b[0m\u001b[32mfilter\u001b[0m\u001b[32m=\u001b[0m\u001b[32mblob\u001b[0m\u001b[32m:none --quiet git:\u001b[0m\u001b[32m/\u001b[0m\u001b[32m/github.com/mkrphys/\u001b[0m\u001b[32mipython-tikzmagic.git\u001b[0m\u001b[32m \u001b[0m\u001b[32m/tmp/\u001b[0m\u001b[32mpip-req-build-kh5l3tar\u001b[0m did not run successfully.\n",
            "  \u001b[31m│\u001b[0m exit code: \u001b[1;36m128\u001b[0m\n",
            "  \u001b[31m╰─>\u001b[0m See above for output.\n",
            "  \n",
            "  \u001b[1;35mnote\u001b[0m: This error originates from a subprocess, and is likely not a problem with pip.\n",
            "\u001b[1;31merror\u001b[0m: \u001b[1msubprocess-exited-with-error\u001b[0m\n",
            "\n",
            "\u001b[31m×\u001b[0m \u001b[32mgit clone --\u001b[0m\u001b[32mfilter\u001b[0m\u001b[32m=\u001b[0m\u001b[32mblob\u001b[0m\u001b[32m:none --quiet git:\u001b[0m\u001b[32m/\u001b[0m\u001b[32m/github.com/mkrphys/\u001b[0m\u001b[32mipython-tikzmagic.git\u001b[0m\u001b[32m \u001b[0m\u001b[32m/tmp/\u001b[0m\u001b[32mpip-req-build-kh5l3tar\u001b[0m did not run successfully.\n",
            "\u001b[31m│\u001b[0m exit code: \u001b[1;36m128\u001b[0m\n",
            "\u001b[31m╰─>\u001b[0m See above for output.\n",
            "\n",
            "\u001b[1;35mnote\u001b[0m: This error originates from a subprocess, and is likely not a problem with pip.\n"
          ]
        }
      ]
    },
    {
      "cell_type": "markdown",
      "metadata": {
        "id": "BsUD_MbL8hAy"
      },
      "source": [
        "### Relies on DEAP\n",
        "\n"
      ]
    },
    {
      "cell_type": "code",
      "metadata": {
        "colab": {
          "base_uri": "https://localhost:8080/"
        },
        "id": "3hSGjInW8hAy",
        "outputId": "1555cffc-a979-49c0-e2e5-6440fcf87b6a"
      },
      "source": [
        "pip install deap"
      ],
      "execution_count": 6,
      "outputs": [
        {
          "output_type": "stream",
          "name": "stdout",
          "text": [
            "Collecting deap\n",
            "  Downloading deap-1.4.1-cp310-cp310-manylinux_2_5_x86_64.manylinux1_x86_64.manylinux_2_17_x86_64.manylinux2014_x86_64.whl (135 kB)\n",
            "\u001b[2K     \u001b[90m━━━━━━━━━━━━━━━━━━━━━━━━━━━━━━━━━━━━━━━\u001b[0m \u001b[32m135.4/135.4 kB\u001b[0m \u001b[31m2.8 MB/s\u001b[0m eta \u001b[36m0:00:00\u001b[0m\n",
            "\u001b[?25hRequirement already satisfied: numpy in /usr/local/lib/python3.10/dist-packages (from deap) (1.23.5)\n",
            "Installing collected packages: deap\n",
            "Successfully installed deap-1.4.1\n"
          ]
        }
      ]
    },
    {
      "cell_type": "code",
      "metadata": {
        "internals": {},
        "nbpresent": {
          "id": "48b9e709-d6f1-4a65-ac4a-3b7c44f56f0c"
        },
        "id": "xX-dPwNw8hAy"
      },
      "source": [
        "from deap import algorithms, base, benchmarks, tools, creator"
      ],
      "execution_count": 7,
      "outputs": []
    },
    {
      "cell_type": "markdown",
      "metadata": {
        "internals": {
          "frag_helper": "fragment_end",
          "frag_number": 12,
          "slide_helper": "subslide_end",
          "slide_type": "subslide"
        },
        "nbpresent": {
          "id": "ae190ffa-f297-43cc-8af8-616938f2fb0e"
        },
        "slide_helper": "slide_end",
        "id": "-vRuDaYU8hBA"
      },
      "source": [
        "# Non-dominated Sorting Genetic Algorithm (NSGA-II)"
      ]
    },
    {
      "cell_type": "markdown",
      "metadata": {
        "internals": {
          "frag_helper": "fragment_end",
          "frag_number": 12,
          "slide_helper": "subslide_end",
          "slide_type": "subslide"
        },
        "nbpresent": {
          "id": "eb9326e6-a3cb-4d0a-9bdf-e04410355aff"
        },
        "slide_helper": "slide_end",
        "id": "BtpRiHRZ8hBB"
      },
      "source": [
        "# Implementing NSGA-II\n"
      ]
    },
    {
      "cell_type": "markdown",
      "metadata": {
        "id": "Re9bqtLwiamK"
      },
      "source": [
        "## Search and objective spaces, reproduction operators"
      ]
    },
    {
      "cell_type": "code",
      "metadata": {
        "internals": {
          "frag_helper": "fragment_end",
          "frag_number": 12
        },
        "nbpresent": {
          "id": "c55868cf-4170-4a35-8079-842c07c89c4d"
        },
        "id": "VahAtSRA8hBB"
      },
      "source": [
        "toolbox = base.Toolbox()"
      ],
      "execution_count": 8,
      "outputs": []
    },
    {
      "cell_type": "code",
      "metadata": {
        "id": "-XFaZQoBh7Jf"
      },
      "source": [
        "#creator.create(\"FitnessMin\", base.Fitness, weights=(-1.0,-1.0,-1.0))\n",
        "creator.create(\"FitnessMax3objs\", base.Fitness, weights=(+1.0,+1.0,+1.0))"
      ],
      "execution_count": 9,
      "outputs": []
    },
    {
      "cell_type": "markdown",
      "metadata": {
        "id": "lsm2BDaU8hBC"
      },
      "source": [
        "Define problem domain as $\\vec{x}\\in\\left[0,1\\right]^{30}$ and a two/three-objective DTLZ3 instance."
      ]
    },
    {
      "cell_type": "code",
      "metadata": {
        "id": "yA8EbFfCgmqa"
      },
      "source": [
        "creator.create(\"IndividualUntil3objs\", array.array, typecode='d', fitness=creator.FitnessMax3objs)"
      ],
      "execution_count": 10,
      "outputs": []
    },
    {
      "cell_type": "markdown",
      "metadata": {
        "id": "HVR3hGM0WGjP"
      },
      "source": []
    },
    {
      "cell_type": "code",
      "metadata": {
        "internals": {
          "frag_helper": "fragment_end",
          "frag_number": 12
        },
        "nbpresent": {
          "id": "df258788-b3e7-4b67-ab71-1df841724458"
        },
        "id": "FiUm28jA8hBC"
      },
      "source": [
        "toolbox.register(\"evaluate\", lambda ind: benchmarks.dtlz3(ind, 3))"
      ],
      "execution_count": 11,
      "outputs": []
    },
    {
      "cell_type": "code",
      "metadata": {
        "internals": {
          "frag_helper": "fragment_end",
          "frag_number": 12
        },
        "nbpresent": {
          "id": "df258788-b3e7-4b67-ab71-1df841724458"
        },
        "id": "QROKUS-Gpzht"
      },
      "source": [
        "BOUND_LOW, BOUND_UP = 0.0, 1.0  # for dtlz3\n",
        "N_DIM = 30 #5 # equal to the number of objectives + k - 1 for dtlz3, k is related to the number of local optima\n",
        "\n",
        "#BOUND_LOW, BOUND_UP = -1.5, 1.5 # for dent\n",
        "#N_DIM = 2 # 2 or more for dent"
      ],
      "execution_count": 12,
      "outputs": []
    },
    {
      "cell_type": "code",
      "metadata": {
        "id": "MrENRe_gpzht"
      },
      "source": [
        "def uniform(bound_low, bound_up, size=None):\n",
        "    'Initialization of individuals.'\n",
        "    return [random.uniform(a, b) for a, b in zip([bound_low] * size, [bound_up] * size)]"
      ],
      "execution_count": 13,
      "outputs": []
    },
    {
      "cell_type": "code",
      "metadata": {
        "internals": {
          "frag_helper": "fragment_end",
          "frag_number": 12
        },
        "nbpresent": {
          "id": "8c2a43e4-93f9-4628-93f4-80748a4de5a2"
        },
        "id": "s-50lPPl8hBC"
      },
      "source": [
        "toolbox.register(\"attr_float\", uniform, BOUND_LOW, BOUND_UP, N_DIM)\n",
        "\n",
        "#toolbox.register(\"individual\", tools.initIterate, creator.Individual2Obj, toolbox.attr_float)\n",
        "toolbox.register(\"individual\", tools.initIterate, creator.IndividualUntil3objs, toolbox.attr_float)\n",
        "\n",
        "toolbox.register(\"population\", tools.initRepeat, list, toolbox.individual)\n",
        "\n",
        "toolbox.register(\"mate\", tools.cxSimulatedBinaryBounded, low=BOUND_LOW, up=BOUND_UP, eta=20.0)\n",
        "\n",
        "toolbox.register(\"mutate\", tools.mutPolynomialBounded, low=BOUND_LOW, up=BOUND_UP, eta=20.0, indpb=1.0/N_DIM)\n",
        "\n",
        "toolbox.register(\"select\", tools.selNSGA2)"
      ],
      "execution_count": 14,
      "outputs": []
    },
    {
      "cell_type": "markdown",
      "metadata": {
        "internals": {
          "frag_helper": "fragment_end",
          "frag_number": 12,
          "slide_type": "subslide"
        },
        "nbpresent": {
          "id": "74e8fa37-f51d-4d79-927e-d6f66c184cb0"
        },
        "id": "Hi-IgJ8m8hBD"
      },
      "source": [
        "## Generations and the main parameters\n",
        "\n",
        "Storing all the required information in the `toolbox` and using DEAP's `algorithms.eaMuPlusLambda` function allows us to create a very compact -albeit not a 100% exact copy of the original- implementation of NSGA-II."
      ]
    },
    {
      "cell_type": "code",
      "metadata": {
        "internals": {
          "frag_helper": "fragment_end",
          "frag_number": 12,
          "slide_helper": "subslide_end"
        },
        "nbpresent": {
          "id": "b61530d8-bc78-4d6f-8b38-81f304f9422c"
        },
        "slide_helper": "slide_end",
        "id": "iB-pQzvI8hBD"
      },
      "source": [
        "def run_ea(toolbox, stats=None, verbose=False):\n",
        "    pop = toolbox.population(n=toolbox.pop_size)\n",
        "    pop = toolbox.select(pop, len(pop))\n",
        "    return algorithms.eaMuPlusLambda(pop, toolbox, mu=toolbox.pop_size,\n",
        "                                     lambda_=toolbox.pop_size,\n",
        "                                     cxpb=1-toolbox.mut_prob,\n",
        "                                     mutpb=toolbox.mut_prob,\n",
        "                                     stats=stats,\n",
        "                                     ngen=toolbox.max_gen,\n",
        "                                     verbose=verbose)"
      ],
      "execution_count": 15,
      "outputs": []
    },
    {
      "cell_type": "code",
      "metadata": {
        "id": "NgVUCpUjfoHN"
      },
      "source": [
        "toolbox.max_gen  = 100 #100-NSAG-II--MEAMT comparison  #400-hypervolume  #100-beautiful surface\n",
        "toolbox.pop_size = 10 #10 #20 #100\n",
        "toolbox.mut_prob = 0.2"
      ],
      "execution_count": 16,
      "outputs": []
    },
    {
      "cell_type": "markdown",
      "metadata": {
        "id": "td-e-hF-8hBD"
      },
      "source": [
        "# Running NSGA-II on DTLZ3"
      ]
    },
    {
      "cell_type": "code",
      "metadata": {
        "id": "MhzsijCGyXbk"
      },
      "source": [
        "import time, array, random, copy, math, six, itertools\n",
        "import numpy as np\n",
        "import pandas as pd"
      ],
      "execution_count": 17,
      "outputs": []
    },
    {
      "cell_type": "code",
      "metadata": {
        "id": "kTamMnsXwPlv"
      },
      "source": [
        "stats = tools.Statistics()\n",
        "stats.register(\"pop\", copy.deepcopy)"
      ],
      "execution_count": 18,
      "outputs": []
    },
    {
      "cell_type": "code",
      "metadata": {
        "colab": {
          "base_uri": "https://localhost:8080/"
        },
        "id": "n9Ro8pRa8hBD",
        "outputId": "70115c3d-af68-4c7c-bb47-7eb297b1e584"
      },
      "source": [
        "%time res, logbook = run_ea(toolbox, stats=stats)"
      ],
      "execution_count": 19,
      "outputs": [
        {
          "output_type": "stream",
          "name": "stdout",
          "text": [
            "CPU times: user 338 ms, sys: 3.09 ms, total: 342 ms\n",
            "Wall time: 403 ms\n"
          ]
        }
      ]
    },
    {
      "cell_type": "code",
      "metadata": {
        "colab": {
          "base_uri": "https://localhost:8080/"
        },
        "id": "aRgJMXCHVUTQ",
        "outputId": "aa3aacd7-1e56-4569-aeca-f79cb07ef015"
      },
      "source": [
        "res[1].fitness"
      ],
      "execution_count": 20,
      "outputs": [
        {
          "output_type": "execute_result",
          "data": {
            "text/plain": [
              "deap.creator.FitnessMax3objs((1705.6965059382233, 67.76060081060321, 5150.362493980492))"
            ]
          },
          "metadata": {},
          "execution_count": 20
        }
      ]
    },
    {
      "cell_type": "code",
      "metadata": {
        "colab": {
          "base_uri": "https://localhost:8080/"
        },
        "id": "RESmhWqyV3g0",
        "outputId": "1d74e965-482b-45bd-cde7-c6312c281c29"
      },
      "source": [
        "res"
      ],
      "execution_count": 21,
      "outputs": [
        {
          "output_type": "execute_result",
          "data": {
            "text/plain": [
              "[IndividualUntil3objs('d', [0.4866833038784477, 0.004495924791568517, 0.15058910645304294, 0.055838204540232174, 0.8537058149102158, 0.7536671827880178, 0.8465888334786916, 0.7578076940649202, 0.2659283883976903, 0.1486240625037338, 0.846772495912413, 0.9759034250546494, 0.9231686217605296, 0.4430265742284362, 0.05532878787456636, 0.06111178212670831, 0.6461394633419948, 0.14069471555606644, 0.9590589706808152, 0.9449319199269243, 0.7476842072121948, 0.046365025212900944, 0.5651936872700898, 0.05266390474187981, 0.44270623425973316, 0.1462305141814268, 0.6642114461366329, 0.8448838591966062, 0.9570891767165925, 0.6604778480922144]),\n",
              " IndividualUntil3objs('d', [0.7962520092249834, 0.025277103417157165, 0.15058910645304294, 0.055586388475154014, 0.8537184588000186, 0.7536306294494871, 0.8465888334786916, 0.7589768061725568, 0.2659283883976903, 0.150134726886631, 0.8467720521986689, 0.9758993911285299, 0.9231686264168415, 0.4430265742284362, 0.055320849869281444, 0.06111178212670831, 0.6461383624374778, 0.14069471555606644, 0.9590412701056595, 0.9449387406931907, 0.7476842072121948, 0.046344547978334816, 0.5651936872700898, 0.05266390474187981, 0.4426883012491251, 0.14622954357164178, 0.6641862921779859, 0.8466383984270969, 0.9587790931176152, 0.6604676401340217]),\n",
              " IndividualUntil3objs('d', [0.09518743563237242, 0.9807716154091988, 0.1505898725149945, 0.05584095289004014, 0.8535242645303472, 0.7536660806711265, 0.8467591596062684, 0.7589801193220248, 0.26592981365803947, 0.6497421403708028, 0.846782255207779, 0.9758996174447356, 0.9231685611708051, 0.4392242280458426, 0.055328928739637157, 0.061110592480761915, 0.6461403728277101, 0.14069478653750453, 0.9590632936380231, 0.945179325459584, 0.7461090169340674, 0.046343892920415554, 0.5651537559587205, 0.052653622806239274, 0.4427062337053311, 0.1462164398929478, 0.6661327664912897, 0.8448845129995045, 0.8608289178593472, 0.660466633320289]),\n",
              " IndividualUntil3objs('d', [0.0937322214163186, 0.017866508832272768, 0.1505897539000487, 0.05559973281710685, 0.8535742428953821, 0.7536652291154615, 0.8467591596062684, 0.7589824169655888, 0.26592958984184856, 0.13876480874654498, 0.846782255207779, 0.9758996203729743, 0.9231685770278323, 0.4391566595894453, 0.055328928739637157, 0.061110592480761915, 0.6461383401016788, 0.14069478615095915, 0.9590419559027323, 0.9451796297689989, 0.7477400487838923, 0.0463449921228426, 0.5651537559587205, 0.05265107820632761, 0.4427070612707815, 0.1462304399172655, 0.6641904727813428, 0.8448845129995045, 0.9573388080109854, 0.660478793971198]),\n",
              " IndividualUntil3objs('d', [0.43800495020006114, 0.9999521843690709, 0.1505844106313456, 0.05560047001324954, 0.8535294529573908, 0.7536649521365191, 0.8467567182051277, 0.758979956518013, 0.2612445325550769, 0.14232568066648377, 0.8466796444885079, 0.9758996173562133, 0.9231685610863614, 0.4391728337950943, 0.05532223083459178, 0.0611106351157321, 0.6461407251057714, 0.14069642856953685, 0.9590550585407114, 0.9449365201472676, 0.7322121017459781, 0.04634394330838737, 0.5652170123475128, 0.052778970534952334, 0.4427062118658374, 0.14572849069131336, 0.6641596605371228, 0.8443511081593638, 0.9621909457626648, 0.6604668648546318]),\n",
              " IndividualUntil3objs('d', [0.7725754312127362, 0.9972732803646003, 0.1505611114484845, 0.05515395560749403, 0.8535996847486377, 0.7536244600600613, 0.8467882328959915, 0.7588249809433673, 0.2658844031719979, 0.14737956756150633, 0.8466246037879774, 0.9761345746407785, 0.9231691520820752, 0.44306379924915495, 0.05532841026603138, 0.061109051038333, 0.6461403786704469, 0.14069645980493606, 0.9590457039787033, 0.9449409483058657, 0.7373689658125727, 0.0463437060660682, 0.5649859080048215, 0.05363449557936452, 0.4427070558889652, 0.14574500432112122, 0.664174981251385, 0.8466480512967928, 0.857641161793103, 0.6610333229964339]),\n",
              " IndividualUntil3objs('d', [0.18085115264525287, 0.018229736261957112, 0.15058624881399169, 0.05560041875361429, 0.8535294387985906, 0.7536242014677389, 0.8465889952573944, 0.7589790000411185, 0.2612415257586546, 0.13921873047965594, 0.8466765579440441, 0.9758983808775796, 0.9231685743344175, 0.4431174327913598, 0.05532222707503943, 0.061110635247887776, 0.6461407271013072, 0.14069471342676473, 0.9590567513370039, 0.9449346343989717, 0.7460118462579638, 0.04634397368504688, 0.5652595651768861, 0.05266276764001806, 0.4426876288535312, 0.14573648359889657, 0.6641748549198331, 0.844342982801668, 0.9620279523063925, 0.6604642103948777]),\n",
              " IndividualUntil3objs('d', [0.43456987799891256, 0.9831835028671931, 0.1505843596504594, 0.05559488655990457, 0.85360212197333, 0.7536658882937882, 0.8467885334292157, 0.7588187412177604, 0.26592486212498734, 0.6561107073075558, 0.8466254703780403, 0.9758996173562133, 0.9231691509450128, 0.4429609626082608, 0.055322175008110396, 0.06111063087108063, 0.6461407438971274, 0.14069642856953685, 0.9593811042241387, 0.9449360685192099, 0.7373445718771615, 0.04634394330838737, 0.5652170123475128, 0.0536710087785903, 0.4427062118658374, 0.14572816195739918, 0.6641596605371228, 0.8443736414917041, 0.8576515131303014, 0.6610133358625137]),\n",
              " IndividualUntil3objs('d', [0.11166447877273938, 0.9384023666600245, 0.1505546904874449, 0.05542939485229117, 0.8535996847486377, 0.7536242716095993, 0.8465937598052938, 0.7588301373833032, 0.2659290294349548, 0.6597559518443523, 0.8466765064202805, 0.9758993478670828, 0.9231691520892231, 0.4430600785818259, 0.05532835161493148, 0.06110951273891836, 0.6461349815595305, 0.14069478596124252, 0.9593637118557631, 0.9449429424884309, 0.7537010922879254, 0.04636253067925491, 0.5651461667460319, 0.052661311146627206, 0.44270772219593346, 0.14574551401211894, 0.6641834605094101, 0.8466479235021572, 0.956524421796197, 0.6604673642271002]),\n",
              " IndividualUntil3objs('d', [0.4838597271057976, 0.9418166043391824, 0.1505620677787263, 0.05515395560749403, 0.8535996847486377, 0.7536656947407034, 0.8467911999828764, 0.7588249809433673, 0.2658844031719979, 0.14737956756150633, 0.8467687365956168, 0.975900940734926, 0.9231691520820752, 0.44306260425389055, 0.055328786854192125, 0.06110888632162634, 0.6461403645577571, 0.14069490160317233, 0.9590457039787033, 0.9449409483058657, 0.7469280563006436, 0.0463437060660682, 0.5649859080048215, 0.05265694505092541, 0.4427062738740992, 0.14628540194205186, 0.664174981251385, 0.8466480512967928, 0.857641161793103, 0.6610333229964339])]"
            ]
          },
          "metadata": {},
          "execution_count": 21
        }
      ]
    },
    {
      "cell_type": "markdown",
      "metadata": {
        "id": "bImRFpTMgA2I"
      },
      "source": [
        "# Visualizing results"
      ]
    },
    {
      "cell_type": "code",
      "metadata": {
        "id": "asmdqB6W8hBD"
      },
      "source": [
        "fronts = tools.emo.sortNondominated(res, len(res))"
      ],
      "execution_count": 22,
      "outputs": []
    },
    {
      "cell_type": "code",
      "metadata": {
        "id": "EU2n6iyW8hBE",
        "colab": {
          "base_uri": "https://localhost:8080/",
          "height": 471
        },
        "outputId": "9ff17039-7a78-4dd3-a1dc-68e08da7e56e"
      },
      "source": [
        "plot_colors = mpl.cm.Set1(np.linspace(0, 1, len(fronts)))\n",
        "fig, ax = plt.subplots(1, figsize=(4,4))\n",
        "for i, inds in enumerate(fronts):\n",
        "    par = [toolbox.evaluate(ind) for ind in inds]\n",
        "    df = pd.DataFrame(par)\n",
        "    df.plot(ax=ax, kind='scatter', label='Front ' + str(i+1),\n",
        "            x=df.columns[0], y=df.columns[1], color=plot_colors[i])\n",
        "plt.xlabel('$f_1()$');plt.ylabel('$f_2()$'); plt.legend(frameon=True);"
      ],
      "execution_count": 23,
      "outputs": [
        {
          "output_type": "stream",
          "name": "stderr",
          "text": [
            "/usr/local/lib/python3.10/dist-packages/pandas/plotting/_matplotlib/core.py:1259: UserWarning: *c* argument looks like a single numeric RGB or RGBA sequence, which should be avoided as value-mapping will have precedence in case its length matches with *x* & *y*.  Please use the *color* keyword-argument or provide a 2D array with a single row if you intend to specify the same RGB or RGBA value for all points.\n",
            "  scatter = ax.scatter(\n"
          ]
        },
        {
          "output_type": "display_data",
          "data": {
            "text/plain": [
              "<Figure size 400x400 with 1 Axes>"
            ],
            "image/png": "[encoded data removed]"
          },
          "metadata": {
            "image/png": {
              "width": 436,
              "height": 398
            }
          }
        }
      ]
    },
    {
      "cell_type": "code",
      "metadata": {
        "colab": {
          "base_uri": "https://localhost:8080/",
          "height": 415
        },
        "id": "bNv9hxTFqbkS",
        "outputId": "b8f0c2ef-cc10-45b3-dd2b-2df848a32c30"
      },
      "source": [
        "plot_colors = mpl.cm.Set1(np.linspace(0, 1, len(fronts)))\n",
        "fig, ax = plt.subplots(1, figsize=(4,4))\n",
        "for i, inds in enumerate(fronts):\n",
        "    par = [toolbox.evaluate(ind) for ind in inds]\n",
        "    df = pd.DataFrame(par)\n",
        "    df.plot(ax=ax, kind='scatter', label='Front ' + str(i+1),\n",
        "            x=df.columns[0], y=df.columns[2], color=plot_colors[i])\n",
        "plt.xlabel('$f_1()$');plt.ylabel('$f_3()$'); plt.legend(frameon=True);"
      ],
      "execution_count": 24,
      "outputs": [
        {
          "output_type": "display_data",
          "data": {
            "text/plain": [
              "<Figure size 400x400 with 1 Axes>"
            ],
            "image/png": "[encoded data removed]"
          },
          "metadata": {
            "image/png": {
              "width": 436,
              "height": 398
            }
          }
        }
      ]
    },
    {
      "cell_type": "code",
      "metadata": {
        "colab": {
          "base_uri": "https://localhost:8080/",
          "height": 415
        },
        "id": "DDU_SUR5qgWn",
        "outputId": "90dfa93c-5f56-451a-82bb-3c7778a14391"
      },
      "source": [
        "plot_colors = mpl.cm.Set1(np.linspace(0, 1, len(fronts)))\n",
        "fig, ax = plt.subplots(1, figsize=(4,4))\n",
        "for i, inds in enumerate(fronts):\n",
        "    par = [toolbox.evaluate(ind) for ind in inds]\n",
        "    df = pd.DataFrame(par)\n",
        "    df.plot(ax=ax, kind='scatter', label='Front ' + str(i+1),\n",
        "            x=df.columns[1], y=df.columns[2], color=plot_colors[i])\n",
        "plt.xlabel('$f_2()$');plt.ylabel('$f_3()$'); plt.legend(frameon=True);"
      ],
      "execution_count": 25,
      "outputs": [
        {
          "output_type": "display_data",
          "data": {
            "text/plain": [
              "<Figure size 400x400 with 1 Axes>"
            ],
            "image/png": "[encoded data removed]"
          },
          "metadata": {
            "image/png": {
              "width": 436,
              "height": 398
            }
          }
        }
      ]
    },
    {
      "cell_type": "code",
      "metadata": {
        "id": "_E-Wzad4VZJl"
      },
      "source": [
        "evaluations = [ toolbox.evaluate(ind) for ind in res]\n",
        "#evaluations"
      ],
      "execution_count": 26,
      "outputs": []
    },
    {
      "cell_type": "code",
      "metadata": {
        "id": "udXsIGG0VZJz"
      },
      "source": [
        "df = pd.DataFrame(evaluations, columns = ['f1','f2','f3'])\n",
        "#df"
      ],
      "execution_count": 27,
      "outputs": []
    },
    {
      "cell_type": "code",
      "metadata": {
        "colab": {
          "base_uri": "https://localhost:8080/",
          "height": 504
        },
        "id": "_Ijb4pG4VZJ1",
        "outputId": "c2abec6f-cac9-419e-e649-618e76848822"
      },
      "source": [
        "import re, seaborn as sns, numpy as np, pandas as pd, random\n",
        "from pylab import *\n",
        "from matplotlib.pyplot import plot, show, draw, figure, cm\n",
        "import matplotlib.pyplot as plt\n",
        "from mpl_toolkits.mplot3d import Axes3D\n",
        "sns.set_style(\"whitegrid\", {'axes.grid' : False})\n",
        "\n",
        "fig = plt.figure(figsize=(6,6))\n",
        "\n",
        "#ax = Axes3D(fig) # Method 1\n",
        "ax = fig.add_subplot(111, projection='3d') # Method 2\n",
        "\n",
        "ax.scatter(df['f1'], df['f2'], df['f3'], c=df['f1'], marker='o')\n",
        "ax.set_xlabel('f1')\n",
        "ax.set_ylabel('f2')\n",
        "ax.set_zlabel('f3')\n",
        "\n",
        "plt.show()"
      ],
      "execution_count": 28,
      "outputs": [
        {
          "output_type": "display_data",
          "data": {
            "text/plain": [
              "<Figure size 600x600 with 1 Axes>"
            ],
            "image/png": "[encoded data removed]"
          },
          "metadata": {
            "image/png": {
              "width": 515,
              "height": 487
            }
          }
        }
      ]
    },
    {
      "cell_type": "markdown",
      "metadata": {
        "id": "MFh4hLQTgvFu"
      },
      "source": [
        "# Hypervolume as the evolution took place"
      ]
    },
    {
      "cell_type": "code",
      "metadata": {
        "id": "JSXJlIa4gvFv"
      },
      "source": [
        "fronts = [tools.sortLogNondominated(pop, k=len(pop), first_front_only=True)\n",
        "          for pop in logbook.select('pop')]"
      ],
      "execution_count": 29,
      "outputs": []
    },
    {
      "cell_type": "code",
      "metadata": {
        "colab": {
          "base_uri": "https://localhost:8080/"
        },
        "id": "UhhKmM6ENUHn",
        "outputId": "a6778ec5-7a3d-450a-f53b-11e76300d8db"
      },
      "source": [
        "reference = np.max([np.max([ind.fitness.values for ind in front], axis=0) for front in fronts], axis=0) + 1\n",
        "print(reference)\n",
        "#\n",
        "# for comparison reasons (NSGA-II x MEAMT) we must use the same reference - nadir/utopian point\n",
        "reference = [6000, 6000, 6000]"
      ],
      "execution_count": 30,
      "outputs": [
        {
          "output_type": "stream",
          "name": "stdout",
          "text": [
            "[5332.8291993  5312.06502781 5151.36249398]\n"
          ]
        }
      ]
    },
    {
      "cell_type": "code",
      "metadata": {
        "id": "YnuXph1lgvFw"
      },
      "source": [
        "import deap.benchmarks.tools as bt"
      ],
      "execution_count": 31,
      "outputs": []
    },
    {
      "cell_type": "code",
      "metadata": {
        "id": "YnMdWhi9gvFx"
      },
      "source": [
        "hypervols = [bt.hypervolume(front, reference) for front in fronts]"
      ],
      "execution_count": 33,
      "outputs": []
    },
    {
      "cell_type": "code",
      "metadata": {
        "id": "3v9kPmO5gvFx",
        "colab": {
          "base_uri": "https://localhost:8080/",
          "height": 386
        },
        "outputId": "bfe1db63-592a-4d24-9f95-fd95d60fa036"
      },
      "source": [
        "plt.figure(figsize=(7, 3))\n",
        "plt.plot(hypervols)\n",
        "plt.title('              Hypervolume of the non-dominated fronts')\n",
        "plt.xlabel('Iterations')\n",
        "plt.ylabel('Hypervolume');"
      ],
      "execution_count": 34,
      "outputs": [
        {
          "output_type": "display_data",
          "data": {
            "text/plain": [
              "<Figure size 700x300 with 1 Axes>"
            ],
            "image/png": "[encoded data removed]"
          },
          "metadata": {
            "image/png": {
              "width": 694,
              "height": 369
            }
          }
        }
      ]
    },
    {
      "cell_type": "code",
      "metadata": {
        "id": "XPfUEngrgXG-"
      },
      "source": [],
      "execution_count": null,
      "outputs": []
    }
  ]
}